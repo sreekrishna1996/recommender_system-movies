{
 "cells": [
  {
   "cell_type": "code",
   "execution_count": 1,
   "id": "d003ee75",
   "metadata": {},
   "outputs": [],
   "source": [
    "import pandas as pd\n",
    "import numpy as np\n",
    "import seaborn as sns\n",
    "import matplotlib.pyplot as plt\n",
    "from scipy import stats\n",
    "import warnings\n",
    "warnings.filterwarnings('ignore')"
   ]
  },
  {
   "cell_type": "markdown",
   "id": "47b32b8f",
   "metadata": {},
   "source": [
    "### Preprocessing movies data frame"
   ]
  },
  {
   "cell_type": "code",
   "execution_count": 2,
   "id": "f25f9bb0",
   "metadata": {},
   "outputs": [],
   "source": [
    "movies = pd.read_fwf('zee-movies.dat', encoding='ISO-8859-1')"
   ]
  },
  {
   "cell_type": "code",
   "execution_count": 3,
   "id": "4d04f5c9",
   "metadata": {},
   "outputs": [
    {
     "data": {
      "text/html": [
       "<div>\n",
       "<style scoped>\n",
       "    .dataframe tbody tr th:only-of-type {\n",
       "        vertical-align: middle;\n",
       "    }\n",
       "\n",
       "    .dataframe tbody tr th {\n",
       "        vertical-align: top;\n",
       "    }\n",
       "\n",
       "    .dataframe thead th {\n",
       "        text-align: right;\n",
       "    }\n",
       "</style>\n",
       "<table border=\"1\" class=\"dataframe\">\n",
       "  <thead>\n",
       "    <tr style=\"text-align: right;\">\n",
       "      <th></th>\n",
       "      <th>Movie ID::Title::Genres</th>\n",
       "      <th>Unnamed: 1</th>\n",
       "      <th>Unnamed: 2</th>\n",
       "    </tr>\n",
       "  </thead>\n",
       "  <tbody>\n",
       "    <tr>\n",
       "      <th>0</th>\n",
       "      <td>1::Toy Story (1995)::Animation|Children's|Comedy</td>\n",
       "      <td>NaN</td>\n",
       "      <td>NaN</td>\n",
       "    </tr>\n",
       "    <tr>\n",
       "      <th>1</th>\n",
       "      <td>2::Jumanji (1995)::Adventure|Children's|Fantasy</td>\n",
       "      <td>NaN</td>\n",
       "      <td>NaN</td>\n",
       "    </tr>\n",
       "  </tbody>\n",
       "</table>\n",
       "</div>"
      ],
      "text/plain": [
       "                            Movie ID::Title::Genres Unnamed: 1 Unnamed: 2\n",
       "0  1::Toy Story (1995)::Animation|Children's|Comedy        NaN        NaN\n",
       "1   2::Jumanji (1995)::Adventure|Children's|Fantasy        NaN        NaN"
      ]
     },
     "execution_count": 3,
     "metadata": {},
     "output_type": "execute_result"
    }
   ],
   "source": [
    "movies.head(2)"
   ]
  },
  {
   "cell_type": "code",
   "execution_count": 4,
   "id": "24408e4c",
   "metadata": {},
   "outputs": [
    {
     "data": {
      "text/plain": [
       "(3883, 3)"
      ]
     },
     "execution_count": 4,
     "metadata": {},
     "output_type": "execute_result"
    }
   ],
   "source": [
    "movies.shape"
   ]
  },
  {
   "cell_type": "code",
   "execution_count": 5,
   "id": "82a8803e",
   "metadata": {},
   "outputs": [
    {
     "data": {
      "text/html": [
       "<div>\n",
       "<style scoped>\n",
       "    .dataframe tbody tr th:only-of-type {\n",
       "        vertical-align: middle;\n",
       "    }\n",
       "\n",
       "    .dataframe tbody tr th {\n",
       "        vertical-align: top;\n",
       "    }\n",
       "\n",
       "    .dataframe thead th {\n",
       "        text-align: right;\n",
       "    }\n",
       "</style>\n",
       "<table border=\"1\" class=\"dataframe\">\n",
       "  <thead>\n",
       "    <tr style=\"text-align: right;\">\n",
       "      <th></th>\n",
       "      <th>Movie ID::Title::Genres</th>\n",
       "      <th>Unnamed: 1</th>\n",
       "      <th>Unnamed: 2</th>\n",
       "    </tr>\n",
       "  </thead>\n",
       "  <tbody>\n",
       "    <tr>\n",
       "      <th>count</th>\n",
       "      <td>3883</td>\n",
       "      <td>100</td>\n",
       "      <td>51</td>\n",
       "    </tr>\n",
       "    <tr>\n",
       "      <th>unique</th>\n",
       "      <td>3883</td>\n",
       "      <td>73</td>\n",
       "      <td>45</td>\n",
       "    </tr>\n",
       "    <tr>\n",
       "      <th>top</th>\n",
       "      <td>1::Toy Story (1995)::Animation|Children's|Comedy</td>\n",
       "      <td>y</td>\n",
       "      <td>ma</td>\n",
       "    </tr>\n",
       "    <tr>\n",
       "      <th>freq</th>\n",
       "      <td>1</td>\n",
       "      <td>4</td>\n",
       "      <td>3</td>\n",
       "    </tr>\n",
       "  </tbody>\n",
       "</table>\n",
       "</div>"
      ],
      "text/plain": [
       "                                 Movie ID::Title::Genres Unnamed: 1 Unnamed: 2\n",
       "count                                               3883        100         51\n",
       "unique                                              3883         73         45\n",
       "top     1::Toy Story (1995)::Animation|Children's|Comedy          y         ma\n",
       "freq                                                   1          4          3"
      ]
     },
     "execution_count": 5,
     "metadata": {},
     "output_type": "execute_result"
    }
   ],
   "source": [
    "movies.describe()"
   ]
  },
  {
   "cell_type": "code",
   "execution_count": 6,
   "id": "8ea4adb1",
   "metadata": {},
   "outputs": [
    {
     "name": "stdout",
     "output_type": "stream",
     "text": [
      "<class 'pandas.core.frame.DataFrame'>\n",
      "RangeIndex: 3883 entries, 0 to 3882\n",
      "Data columns (total 3 columns):\n",
      " #   Column                   Non-Null Count  Dtype \n",
      "---  ------                   --------------  ----- \n",
      " 0   Movie ID::Title::Genres  3883 non-null   object\n",
      " 1   Unnamed: 1               100 non-null    object\n",
      " 2   Unnamed: 2               51 non-null     object\n",
      "dtypes: object(3)\n",
      "memory usage: 91.1+ KB\n"
     ]
    }
   ],
   "source": [
    "movies.info()"
   ]
  },
  {
   "cell_type": "markdown",
   "id": "7c79fc25",
   "metadata": {},
   "source": [
    "-> As per the documentation, titles are identical to titles provided by the IMDB. \"Action, Adventure, Animation, Children's, Comedy, Crime, Documentary, Drama, Fantasy, Film-Noir, Horror, Musical, Mystery, Romance, Sci-Fi, Thriller, War, Western\" are the unique genres."
   ]
  },
  {
   "cell_type": "code",
   "execution_count": 7,
   "id": "c6eb8663",
   "metadata": {},
   "outputs": [],
   "source": [
    "# Dropping unwanted features.\n",
    "movies.drop(['Unnamed: 1', 'Unnamed: 2'], axis = 1, inplace = True)"
   ]
  },
  {
   "cell_type": "code",
   "execution_count": 8,
   "id": "41fa2c2e",
   "metadata": {},
   "outputs": [
    {
     "data": {
      "text/html": [
       "<div>\n",
       "<style scoped>\n",
       "    .dataframe tbody tr th:only-of-type {\n",
       "        vertical-align: middle;\n",
       "    }\n",
       "\n",
       "    .dataframe tbody tr th {\n",
       "        vertical-align: top;\n",
       "    }\n",
       "\n",
       "    .dataframe thead th {\n",
       "        text-align: right;\n",
       "    }\n",
       "</style>\n",
       "<table border=\"1\" class=\"dataframe\">\n",
       "  <thead>\n",
       "    <tr style=\"text-align: right;\">\n",
       "      <th></th>\n",
       "      <th>Movie_ID</th>\n",
       "      <th>Title</th>\n",
       "      <th>Genres</th>\n",
       "    </tr>\n",
       "  </thead>\n",
       "  <tbody>\n",
       "    <tr>\n",
       "      <th>0</th>\n",
       "      <td>1</td>\n",
       "      <td>Toy Story (1995)</td>\n",
       "      <td>Animation|Children's|Comedy</td>\n",
       "    </tr>\n",
       "    <tr>\n",
       "      <th>1</th>\n",
       "      <td>2</td>\n",
       "      <td>Jumanji (1995)</td>\n",
       "      <td>Adventure|Children's|Fantasy</td>\n",
       "    </tr>\n",
       "  </tbody>\n",
       "</table>\n",
       "</div>"
      ],
      "text/plain": [
       "  Movie_ID             Title                        Genres\n",
       "0        1  Toy Story (1995)   Animation|Children's|Comedy\n",
       "1        2    Jumanji (1995)  Adventure|Children's|Fantasy"
      ]
     },
     "execution_count": 8,
     "metadata": {},
     "output_type": "execute_result"
    }
   ],
   "source": [
    "# Creating 'Movie_ID', Title' and 'Genres' features.\n",
    "movies['Movie_ID'] = movies.iloc[:,0].apply(lambda rows: rows.split('::')[0])\n",
    "movies['Title'] = movies.iloc[:,0].apply(lambda rows: rows.split('::')[1])\n",
    "movies['Genres'] = movies.iloc[:,0].apply(lambda rows: rows.split('::')[-1])\n",
    "movies.drop('Movie ID::Title::Genres', axis = 1, inplace=True) # Dropping the original feature. \n",
    "movies.head(2)"
   ]
  },
  {
   "cell_type": "code",
   "execution_count": 9,
   "id": "36b49f0d",
   "metadata": {},
   "outputs": [],
   "source": [
    "movies.Movie_ID = movies.Movie_ID.astype(int)"
   ]
  },
  {
   "cell_type": "code",
   "execution_count": 10,
   "id": "91286c82",
   "metadata": {},
   "outputs": [
    {
     "data": {
      "text/html": [
       "<div>\n",
       "<style scoped>\n",
       "    .dataframe tbody tr th:only-of-type {\n",
       "        vertical-align: middle;\n",
       "    }\n",
       "\n",
       "    .dataframe tbody tr th {\n",
       "        vertical-align: top;\n",
       "    }\n",
       "\n",
       "    .dataframe thead th {\n",
       "        text-align: right;\n",
       "    }\n",
       "</style>\n",
       "<table border=\"1\" class=\"dataframe\">\n",
       "  <thead>\n",
       "    <tr style=\"text-align: right;\">\n",
       "      <th></th>\n",
       "      <th>Movie_ID</th>\n",
       "      <th>Title</th>\n",
       "      <th>Genres</th>\n",
       "    </tr>\n",
       "  </thead>\n",
       "  <tbody>\n",
       "    <tr>\n",
       "      <th>0</th>\n",
       "      <td>1</td>\n",
       "      <td>Toy Story (1995)</td>\n",
       "      <td>Animation</td>\n",
       "    </tr>\n",
       "    <tr>\n",
       "      <th>0</th>\n",
       "      <td>1</td>\n",
       "      <td>Toy Story (1995)</td>\n",
       "      <td>Children's</td>\n",
       "    </tr>\n",
       "  </tbody>\n",
       "</table>\n",
       "</div>"
      ],
      "text/plain": [
       "   Movie_ID             Title      Genres\n",
       "0         1  Toy Story (1995)   Animation\n",
       "0         1  Toy Story (1995)  Children's"
      ]
     },
     "execution_count": 10,
     "metadata": {},
     "output_type": "execute_result"
    }
   ],
   "source": [
    "# Getting all the genres for a movie\n",
    "movies.Genres = movies.Genres.apply(lambda x : x.split('|'))\n",
    "movies = movies.explode('Genres')\n",
    "movies.head(2)"
   ]
  },
  {
   "cell_type": "code",
   "execution_count": 11,
   "id": "a803ff01",
   "metadata": {},
   "outputs": [],
   "source": [
    "# Making Children's just children to avoid complications in the future during bag of words.\n",
    "movies.Genres = movies.Genres.apply(lambda row : 'Children' if row == \"Children's\" else row) "
   ]
  },
  {
   "cell_type": "code",
   "execution_count": 12,
   "id": "49d51b3b",
   "metadata": {},
   "outputs": [
    {
     "data": {
      "text/plain": [
       "(18, 87)"
      ]
     },
     "execution_count": 12,
     "metadata": {},
     "output_type": "execute_result"
    }
   ],
   "source": [
    "actual_Geners = ['Action', 'Adventure', \"Animation\", \"Children\", 'Comedy', 'Crime', 'Documentary', 'Drama', 'Fantasy', 'Film-Noir', 'Horror', 'Musical', 'Mystery', 'Romance', 'Sci-Fi', 'Thriller', 'War', 'Western']\n",
    "actual_Geners = [vals.lower() for vals in actual_Geners] # Converting everything to lower_case\n",
    "len(actual_Geners), movies.Genres.nunique() \n",
    "# There is a huge difference in number of Genres. "
   ]
  },
  {
   "cell_type": "code",
   "execution_count": 13,
   "id": "6430a139",
   "metadata": {
    "scrolled": false
   },
   "outputs": [
    {
     "data": {
      "text/plain": [
       "array(['Animation', 'Children', 'Comedy', 'Adventure', 'Fantasy',\n",
       "       'Romance', 'Drama', 'Action', 'Crime', 'Thriller', 'Horror',\n",
       "       'Sci-Fi', 'Documentary', 'War', 'Musical', 'Mystery',\n",
       "       \"Don't Be a Menace to South Central While Drinking Your Juice in the\",\n",
       "       'Film-Noir', 'Dram',\n",
       "       'Umbrellas of Cherbourg, The (Parapluies de Cherbourg, Les) (1964):',\n",
       "       'Western', 'Chil', '', 'Fantas', 'Dr', 'D',\n",
       "       'Wonderful, Horrible Life of Leni Riefenstahl, The (Die Macht der B',\n",
       "       'Documenta', 'Wester',\n",
       "       'Englishman Who Went Up a Hill, But Came Down a Mountain, The (1995',\n",
       "       'Fant', 'Music', 'Childre',\n",
       "       'Institute Benjamenta, or This Dream People Call Human Life (1995):',\n",
       "       'Dr. Strangelove or: How I Learned to Stop Worrying and Love the Bo',\n",
       "       'Childr',\n",
       "       \"My Life and Times With Antonin Artaud (En compagnie d'Antonin Arta\",\n",
       "       'Old Lady Who Walked in the Sea, The (Vieille qui marchait dans la',\n",
       "       'Rom', 'Animati', 'Come', \"Children'\", 'Sci-F',\n",
       "       'Return of Martin Guerre, The (Retour de Martin Guerre, Le) (1982)',\n",
       "       'Double Life of Veronique, The (La Double Vie de Véronique) (1991)',\n",
       "       'Adv', 'Adventu', 'Horro', 'Docu',\n",
       "       'Garden of Finzi-Contini, The (Giardino dei Finzi-Contini, Il) (19',\n",
       "       'S', 'Sci-', 'Document', 'Th', 'Roman', 'Documen', 'We',\n",
       "       'Seven Samurai (The Magnificent Seven) (Shichinin no samurai) (195',\n",
       "       'F', 'Ro', 'R', 'Sci', 'Chi',\n",
       "       \"Swept Away (Travolti da un insolito destino nell'azzurro mare d'A\",\n",
       "       'Thri',\n",
       "       'Lovers of the Arctic Circle, The (Los Amantes del Círculo Polar)',\n",
       "       'Jeanne and the Perfect Guy (Jeanne et le garçon formidable) (1998',\n",
       "       'Adventur',\n",
       "       'Saragossa Manuscript, The (Rekopis znaleziony w Saragossie) (1965',\n",
       "       'Advent',\n",
       "       'Final Conflict, The (a.k.a. Omen III: The Final Conflict) (1981):',\n",
       "       'Acti', 'Roma', 'A', 'Comed',\n",
       "       'Adventures of Buckaroo Bonzai Across the 8th Dimension, The (1984',\n",
       "       'March of the Wooden Soldiers (a.k.a. Laurel & Hardy in Toyland) (',\n",
       "       'Even Dwarfs Started Small (Auch Zwerge haben klein angefangen) (1',\n",
       "       'Com',\n",
       "       \"Those Who Love Me Can Take the Train (Ceux qui m'aiment prendront\",\n",
       "       'City of the Living Dead (Paura nella città dei morti viventi) (19',\n",
       "       'Thrille',\n",
       "       'Decline of Western Civilization Part II: The Metal Years, The (19',\n",
       "       'Toxic Avenger Part III: The Last Temptation of Toxie, The (1989):',\n",
       "       'Wa', 'Horr',\n",
       "       'Went to Coney Island on a Mission From God... Be Back by Five (19'],\n",
       "      dtype=object)"
      ]
     },
     "execution_count": 13,
     "metadata": {},
     "output_type": "execute_result"
    }
   ],
   "source": [
    "# Some genres appear to be repeating or incorrect.\n",
    "movies.Genres.unique()"
   ]
  },
  {
   "cell_type": "code",
   "execution_count": 14,
   "id": "05ba325c",
   "metadata": {},
   "outputs": [
    {
     "data": {
      "text/plain": [
       "87"
      ]
     },
     "execution_count": 14,
     "metadata": {},
     "output_type": "execute_result"
    }
   ],
   "source": [
    "# Lets try some basic techniques and see if we can try to clean this.\n",
    "# Firstly converting everthing to lower case. \n",
    "movies['Genres'] = movies['Genres'].apply(str.lower)\n",
    "movies['Genres'].nunique()\n",
    "# No effect"
   ]
  },
  {
   "cell_type": "code",
   "execution_count": 15,
   "id": "443c174a",
   "metadata": {},
   "outputs": [
    {
     "data": {
      "text/plain": [
       "87"
      ]
     },
     "execution_count": 15,
     "metadata": {},
     "output_type": "execute_result"
    }
   ],
   "source": [
    "# Removing unnessary spaces from the categories. \n",
    "def del_spaces(row):\n",
    "    row=row.split()\n",
    "    return ' '.join(row)\n",
    "movies['Genres'] = movies['Genres'].apply(del_spaces)\n",
    "movies['Genres'].nunique()\n",
    "# No effect again. We have to dive deep now. "
   ]
  },
  {
   "cell_type": "code",
   "execution_count": 16,
   "id": "07ce2a78",
   "metadata": {},
   "outputs": [],
   "source": [
    "movies['Temp'] = movies['Genres'].apply(lambda row : True if row not in actual_Geners else False)"
   ]
  },
  {
   "cell_type": "code",
   "execution_count": 17,
   "id": "bd07dc3e",
   "metadata": {},
   "outputs": [
    {
     "data": {
      "text/plain": [
       "array([\"don't be a menace to south central while drinking your juice in the\",\n",
       "       'umbrellas of cherbourg, the (parapluies de cherbourg, les) (1964):',\n",
       "       'wonderful, horrible life of leni riefenstahl, the (die macht der b',\n",
       "       'englishman who went up a hill, but came down a mountain, the (1995',\n",
       "       'institute benjamenta, or this dream people call human life (1995):',\n",
       "       'dr. strangelove or: how i learned to stop worrying and love the bo',\n",
       "       \"my life and times with antonin artaud (en compagnie d'antonin arta\",\n",
       "       'old lady who walked in the sea, the (vieille qui marchait dans la',\n",
       "       'return of martin guerre, the (retour de martin guerre, le) (1982)',\n",
       "       'double life of veronique, the (la double vie de véronique) (1991)',\n",
       "       'garden of finzi-contini, the (giardino dei finzi-contini, il) (19',\n",
       "       'seven samurai (the magnificent seven) (shichinin no samurai) (195',\n",
       "       \"swept away (travolti da un insolito destino nell'azzurro mare d'a\",\n",
       "       'lovers of the arctic circle, the (los amantes del círculo polar)',\n",
       "       'jeanne and the perfect guy (jeanne et le garçon formidable) (1998',\n",
       "       'saragossa manuscript, the (rekopis znaleziony w saragossie) (1965',\n",
       "       'final conflict, the (a.k.a. omen iii: the final conflict) (1981):',\n",
       "       'adventures of buckaroo bonzai across the 8th dimension, the (1984',\n",
       "       'march of the wooden soldiers (a.k.a. laurel & hardy in toyland) (',\n",
       "       'even dwarfs started small (auch zwerge haben klein angefangen) (1',\n",
       "       \"those who love me can take the train (ceux qui m'aiment prendront\",\n",
       "       'city of the living dead (paura nella città dei morti viventi) (19',\n",
       "       'decline of western civilization part ii: the metal years, the (19',\n",
       "       'toxic avenger part iii: the last temptation of toxie, the (1989):',\n",
       "       'went to coney island on a mission from god... be back by five (19'],\n",
       "      dtype='<U67')"
      ]
     },
     "execution_count": 17,
     "metadata": {},
     "output_type": "execute_result"
    }
   ],
   "source": [
    "# Some Genres appear to be the name of the movie itself.\n",
    "# Using 11 as the limit since documentary Genre has the highest length and anything ant length above 11 is incorrect. \n",
    "np.array([vals for vals in movies[(movies['Temp'] == True)]['Genres'].unique() if len(vals) > 11])"
   ]
  },
  {
   "cell_type": "code",
   "execution_count": 18,
   "id": "7bda01ae",
   "metadata": {},
   "outputs": [
    {
     "data": {
      "text/plain": [
       "([], 63)"
      ]
     },
     "execution_count": 18,
     "metadata": {},
     "output_type": "execute_result"
    }
   ],
   "source": [
    "# Since there is no description of the movie given, lets just assign a new genre called others to these first. \n",
    "movies['Genres'] = movies['Genres'].apply(lambda row : 'Others' if len(row) > 11 else row)\n",
    "[vals for vals in movies[(movies['Temp'] == True)]['Genres'].unique() if len(vals) > 11], movies.Genres.nunique()\n",
    "# All the unknown Genres have been filled"
   ]
  },
  {
   "cell_type": "code",
   "execution_count": 19,
   "id": "315ff890",
   "metadata": {},
   "outputs": [],
   "source": [
    "actual_Geners.append('Others') # Adding this genre to the original list"
   ]
  },
  {
   "cell_type": "code",
   "execution_count": 20,
   "id": "a4e62af8",
   "metadata": {},
   "outputs": [
    {
     "data": {
      "text/plain": [
       "array(['Others', 'dram', 'chil', '', 'fantas', 'dr', 'd', 'documenta',\n",
       "       'wester', 'fant', 'music', 'childre', 'childr', 'rom', 'animati',\n",
       "       'come', \"children'\", 'sci-f', 'adv', 'adventu', 'horro', 'docu',\n",
       "       's', 'sci-', 'document', 'th', 'roman', 'documen', 'we', 'f', 'ro',\n",
       "       'r', 'sci', 'chi', 'thri', 'adventur', 'advent', 'acti', 'roma',\n",
       "       'a', 'comed', 'com', 'thrille', 'wa', 'horr'], dtype='<U9')"
      ]
     },
     "execution_count": 20,
     "metadata": {},
     "output_type": "execute_result"
    }
   ],
   "source": [
    "# Some Genres have been incorrectly entered.\n",
    "np.array([vals for vals in movies[(movies['Temp'] == True)]['Genres'].unique() if len(vals) <= 11])"
   ]
  },
  {
   "cell_type": "code",
   "execution_count": 21,
   "id": "4ab7435e",
   "metadata": {},
   "outputs": [
    {
     "data": {
      "text/plain": [
       "57"
      ]
     },
     "execution_count": 21,
     "metadata": {},
     "output_type": "execute_result"
    }
   ],
   "source": [
    "# For single digit or 0 length Genres, we'll have to go with others Genre again as we do not have the description of the movies. \n",
    "movies['Genres'] = movies['Genres'].apply(lambda row : 'Others' if len(row) <= 1 else row)\n",
    "movies.Genres.nunique()"
   ]
  },
  {
   "cell_type": "code",
   "execution_count": 22,
   "id": "4f5dc0dc",
   "metadata": {},
   "outputs": [
    {
     "data": {
      "text/plain": [
       "array(['Others', 'dram', 'chil', 'fantas', 'dr', 'documenta', 'wester',\n",
       "       'fant', 'music', 'childre', 'childr', 'rom', 'animati', 'come',\n",
       "       \"children'\", 'sci-f', 'adv', 'adventu', 'horro', 'docu', 'sci-',\n",
       "       'document', 'th', 'roman', 'documen', 'we', 'ro', 'sci', 'chi',\n",
       "       'thri', 'adventur', 'advent', 'acti', 'roma', 'comed', 'com',\n",
       "       'thrille', 'wa', 'horr'], dtype='<U9')"
      ]
     },
     "execution_count": 22,
     "metadata": {},
     "output_type": "execute_result"
    }
   ],
   "source": [
    "# Almost all the values has the prefix of one of the genres. \n",
    "np.array([vals for vals in movies[(movies['Temp'] == True)]['Genres'].unique() if len(vals) <= 11])"
   ]
  },
  {
   "cell_type": "code",
   "execution_count": 23,
   "id": "01f6ece5",
   "metadata": {},
   "outputs": [],
   "source": [
    "def genre_clean(row):\n",
    "    for vals in actual_Geners:\n",
    "        if vals.startswith(row):\n",
    "            return vals\n",
    "    return 'Others'"
   ]
  },
  {
   "cell_type": "code",
   "execution_count": 24,
   "id": "5da27bb0",
   "metadata": {},
   "outputs": [],
   "source": [
    "# Cleaning the genres. \n",
    "movies['Genres'] = movies['Genres'].apply(genre_clean)"
   ]
  },
  {
   "cell_type": "code",
   "execution_count": 25,
   "id": "6069269b",
   "metadata": {},
   "outputs": [
    {
     "data": {
      "text/plain": [
       "array(['animation', 'children', 'comedy', 'adventure', 'fantasy',\n",
       "       'romance', 'drama', 'action', 'crime', 'thriller', 'horror',\n",
       "       'sci-fi', 'documentary', 'war', 'musical', 'mystery', 'Others',\n",
       "       'film-noir', 'western'], dtype=object)"
      ]
     },
     "execution_count": 25,
     "metadata": {},
     "output_type": "execute_result"
    }
   ],
   "source": [
    "# All Genres have been cleaned. \n",
    "movies['Genres'].unique()"
   ]
  },
  {
   "cell_type": "code",
   "execution_count": 26,
   "id": "379e6aea",
   "metadata": {},
   "outputs": [],
   "source": [
    "movies.drop('Temp', axis=1, inplace=True)"
   ]
  },
  {
   "cell_type": "code",
   "execution_count": 27,
   "id": "db9c9b73",
   "metadata": {},
   "outputs": [
    {
     "data": {
      "image/png": "[encoded data removed]",
      "text/plain": [
       "<Figure size 432x288 with 1 Axes>"
      ]
     },
     "metadata": {
      "needs_background": "light"
     },
     "output_type": "display_data"
    }
   ],
   "source": [
    "sns.countplot(movies.Genres)\n",
    "plt.xticks(rotation='90')\n",
    "plt.show()\n",
    "# Any movie which has drama or comedy is mostly watched."
   ]
  },
  {
   "cell_type": "code",
   "execution_count": 28,
   "id": "c2e52515",
   "metadata": {},
   "outputs": [
    {
     "data": {
      "text/html": [
       "<div>\n",
       "<style scoped>\n",
       "    .dataframe tbody tr th:only-of-type {\n",
       "        vertical-align: middle;\n",
       "    }\n",
       "\n",
       "    .dataframe tbody tr th {\n",
       "        vertical-align: top;\n",
       "    }\n",
       "\n",
       "    .dataframe thead th {\n",
       "        text-align: right;\n",
       "    }\n",
       "</style>\n",
       "<table border=\"1\" class=\"dataframe\">\n",
       "  <thead>\n",
       "    <tr style=\"text-align: right;\">\n",
       "      <th></th>\n",
       "      <th>Movie_ID</th>\n",
       "      <th>Title</th>\n",
       "      <th>Genres</th>\n",
       "    </tr>\n",
       "  </thead>\n",
       "  <tbody>\n",
       "    <tr>\n",
       "      <th>0</th>\n",
       "      <td>1</td>\n",
       "      <td>Toy Story (1995)</td>\n",
       "      <td>animation children comedy</td>\n",
       "    </tr>\n",
       "    <tr>\n",
       "      <th>1</th>\n",
       "      <td>2</td>\n",
       "      <td>Jumanji (1995)</td>\n",
       "      <td>adventure children fantasy</td>\n",
       "    </tr>\n",
       "    <tr>\n",
       "      <th>2</th>\n",
       "      <td>3</td>\n",
       "      <td>Grumpier Old Men (1995)</td>\n",
       "      <td>comedy romance</td>\n",
       "    </tr>\n",
       "  </tbody>\n",
       "</table>\n",
       "</div>"
      ],
      "text/plain": [
       "   Movie_ID                    Title                      Genres\n",
       "0         1         Toy Story (1995)   animation children comedy\n",
       "1         2           Jumanji (1995)  adventure children fantasy\n",
       "2         3  Grumpier Old Men (1995)              comedy romance"
      ]
     },
     "execution_count": 28,
     "metadata": {},
     "output_type": "execute_result"
    }
   ],
   "source": [
    "# Grouping again to get genres for each movie, also converting each row to a space seperated string.\n",
    "movies = movies.groupby(['Movie_ID', 'Title'])['Genres'].unique().to_frame().reset_index()\n",
    "movies.Genres = movies.Genres.apply(lambda row : ' '.join(row))\n",
    "movies.head(3)"
   ]
  },
  {
   "cell_type": "code",
   "execution_count": 29,
   "id": "42f78a78",
   "metadata": {},
   "outputs": [],
   "source": [
    "# Getting bag of words for genre feature. \n",
    "from sklearn.feature_extraction.text import CountVectorizer\n",
    "vectorizer = CountVectorizer(vocabulary=actual_Geners)\n",
    "gen = vectorizer.fit_transform(movies['Genres'])\n",
    "genre_array = gen.toarray()"
   ]
  },
  {
   "cell_type": "code",
   "execution_count": 30,
   "id": "4dad41ac",
   "metadata": {},
   "outputs": [
    {
     "data": {
      "text/html": [
       "<div>\n",
       "<style scoped>\n",
       "    .dataframe tbody tr th:only-of-type {\n",
       "        vertical-align: middle;\n",
       "    }\n",
       "\n",
       "    .dataframe tbody tr th {\n",
       "        vertical-align: top;\n",
       "    }\n",
       "\n",
       "    .dataframe thead th {\n",
       "        text-align: right;\n",
       "    }\n",
       "</style>\n",
       "<table border=\"1\" class=\"dataframe\">\n",
       "  <thead>\n",
       "    <tr style=\"text-align: right;\">\n",
       "      <th></th>\n",
       "      <th>Movie_ID</th>\n",
       "      <th>Title</th>\n",
       "      <th>action</th>\n",
       "      <th>adventure</th>\n",
       "      <th>animation</th>\n",
       "      <th>children</th>\n",
       "      <th>comedy</th>\n",
       "      <th>crime</th>\n",
       "      <th>documentary</th>\n",
       "      <th>drama</th>\n",
       "      <th>...</th>\n",
       "      <th>film-noir</th>\n",
       "      <th>horror</th>\n",
       "      <th>musical</th>\n",
       "      <th>mystery</th>\n",
       "      <th>romance</th>\n",
       "      <th>sci-fi</th>\n",
       "      <th>thriller</th>\n",
       "      <th>war</th>\n",
       "      <th>western</th>\n",
       "      <th>Others</th>\n",
       "    </tr>\n",
       "  </thead>\n",
       "  <tbody>\n",
       "    <tr>\n",
       "      <th>0</th>\n",
       "      <td>1</td>\n",
       "      <td>Toy Story (1995)</td>\n",
       "      <td>0</td>\n",
       "      <td>0</td>\n",
       "      <td>1</td>\n",
       "      <td>1</td>\n",
       "      <td>1</td>\n",
       "      <td>0</td>\n",
       "      <td>0</td>\n",
       "      <td>0</td>\n",
       "      <td>...</td>\n",
       "      <td>0</td>\n",
       "      <td>0</td>\n",
       "      <td>0</td>\n",
       "      <td>0</td>\n",
       "      <td>0</td>\n",
       "      <td>0</td>\n",
       "      <td>0</td>\n",
       "      <td>0</td>\n",
       "      <td>0</td>\n",
       "      <td>0</td>\n",
       "    </tr>\n",
       "    <tr>\n",
       "      <th>1</th>\n",
       "      <td>2</td>\n",
       "      <td>Jumanji (1995)</td>\n",
       "      <td>0</td>\n",
       "      <td>1</td>\n",
       "      <td>0</td>\n",
       "      <td>1</td>\n",
       "      <td>0</td>\n",
       "      <td>0</td>\n",
       "      <td>0</td>\n",
       "      <td>0</td>\n",
       "      <td>...</td>\n",
       "      <td>0</td>\n",
       "      <td>0</td>\n",
       "      <td>0</td>\n",
       "      <td>0</td>\n",
       "      <td>0</td>\n",
       "      <td>0</td>\n",
       "      <td>0</td>\n",
       "      <td>0</td>\n",
       "      <td>0</td>\n",
       "      <td>0</td>\n",
       "    </tr>\n",
       "    <tr>\n",
       "      <th>2</th>\n",
       "      <td>3</td>\n",
       "      <td>Grumpier Old Men (1995)</td>\n",
       "      <td>0</td>\n",
       "      <td>0</td>\n",
       "      <td>0</td>\n",
       "      <td>0</td>\n",
       "      <td>1</td>\n",
       "      <td>0</td>\n",
       "      <td>0</td>\n",
       "      <td>0</td>\n",
       "      <td>...</td>\n",
       "      <td>0</td>\n",
       "      <td>0</td>\n",
       "      <td>0</td>\n",
       "      <td>0</td>\n",
       "      <td>1</td>\n",
       "      <td>0</td>\n",
       "      <td>0</td>\n",
       "      <td>0</td>\n",
       "      <td>0</td>\n",
       "      <td>0</td>\n",
       "    </tr>\n",
       "  </tbody>\n",
       "</table>\n",
       "<p>3 rows × 21 columns</p>\n",
       "</div>"
      ],
      "text/plain": [
       "   Movie_ID                    Title  action  adventure  animation  children  \\\n",
       "0         1         Toy Story (1995)       0          0          1         1   \n",
       "1         2           Jumanji (1995)       0          1          0         1   \n",
       "2         3  Grumpier Old Men (1995)       0          0          0         0   \n",
       "\n",
       "   comedy  crime  documentary  drama  ...  film-noir  horror  musical  \\\n",
       "0       1      0            0      0  ...          0       0        0   \n",
       "1       0      0            0      0  ...          0       0        0   \n",
       "2       1      0            0      0  ...          0       0        0   \n",
       "\n",
       "   mystery  romance  sci-fi  thriller  war  western  Others  \n",
       "0        0        0       0         0    0        0       0  \n",
       "1        0        0       0         0    0        0       0  \n",
       "2        0        1       0         0    0        0       0  \n",
       "\n",
       "[3 rows x 21 columns]"
      ]
     },
     "execution_count": 30,
     "metadata": {},
     "output_type": "execute_result"
    }
   ],
   "source": [
    "movies = movies.join(pd.DataFrame(genre_array, columns = vectorizer.get_feature_names_out()))\n",
    "movies.drop('Genres', inplace=True, axis= 1)\n",
    "movies.head(3)"
   ]
  },
  {
   "cell_type": "code",
   "execution_count": 31,
   "id": "be8623f8",
   "metadata": {},
   "outputs": [
    {
     "data": {
      "text/html": [
       "<div>\n",
       "<style scoped>\n",
       "    .dataframe tbody tr th:only-of-type {\n",
       "        vertical-align: middle;\n",
       "    }\n",
       "\n",
       "    .dataframe tbody tr th {\n",
       "        vertical-align: top;\n",
       "    }\n",
       "\n",
       "    .dataframe thead th {\n",
       "        text-align: right;\n",
       "    }\n",
       "</style>\n",
       "<table border=\"1\" class=\"dataframe\">\n",
       "  <thead>\n",
       "    <tr style=\"text-align: right;\">\n",
       "      <th></th>\n",
       "      <th>Movie_ID</th>\n",
       "      <th>Title</th>\n",
       "      <th>action</th>\n",
       "      <th>adventure</th>\n",
       "      <th>animation</th>\n",
       "      <th>children</th>\n",
       "      <th>comedy</th>\n",
       "      <th>crime</th>\n",
       "      <th>documentary</th>\n",
       "      <th>drama</th>\n",
       "      <th>...</th>\n",
       "      <th>horror</th>\n",
       "      <th>musical</th>\n",
       "      <th>mystery</th>\n",
       "      <th>romance</th>\n",
       "      <th>sci-fi</th>\n",
       "      <th>thriller</th>\n",
       "      <th>war</th>\n",
       "      <th>western</th>\n",
       "      <th>Others</th>\n",
       "      <th>Release_Yr</th>\n",
       "    </tr>\n",
       "  </thead>\n",
       "  <tbody>\n",
       "    <tr>\n",
       "      <th>0</th>\n",
       "      <td>1</td>\n",
       "      <td>Toy Story (1995)</td>\n",
       "      <td>0</td>\n",
       "      <td>0</td>\n",
       "      <td>1</td>\n",
       "      <td>1</td>\n",
       "      <td>1</td>\n",
       "      <td>0</td>\n",
       "      <td>0</td>\n",
       "      <td>0</td>\n",
       "      <td>...</td>\n",
       "      <td>0</td>\n",
       "      <td>0</td>\n",
       "      <td>0</td>\n",
       "      <td>0</td>\n",
       "      <td>0</td>\n",
       "      <td>0</td>\n",
       "      <td>0</td>\n",
       "      <td>0</td>\n",
       "      <td>0</td>\n",
       "      <td>1995</td>\n",
       "    </tr>\n",
       "    <tr>\n",
       "      <th>1</th>\n",
       "      <td>2</td>\n",
       "      <td>Jumanji (1995)</td>\n",
       "      <td>0</td>\n",
       "      <td>1</td>\n",
       "      <td>0</td>\n",
       "      <td>1</td>\n",
       "      <td>0</td>\n",
       "      <td>0</td>\n",
       "      <td>0</td>\n",
       "      <td>0</td>\n",
       "      <td>...</td>\n",
       "      <td>0</td>\n",
       "      <td>0</td>\n",
       "      <td>0</td>\n",
       "      <td>0</td>\n",
       "      <td>0</td>\n",
       "      <td>0</td>\n",
       "      <td>0</td>\n",
       "      <td>0</td>\n",
       "      <td>0</td>\n",
       "      <td>1995</td>\n",
       "    </tr>\n",
       "    <tr>\n",
       "      <th>2</th>\n",
       "      <td>3</td>\n",
       "      <td>Grumpier Old Men (1995)</td>\n",
       "      <td>0</td>\n",
       "      <td>0</td>\n",
       "      <td>0</td>\n",
       "      <td>0</td>\n",
       "      <td>1</td>\n",
       "      <td>0</td>\n",
       "      <td>0</td>\n",
       "      <td>0</td>\n",
       "      <td>...</td>\n",
       "      <td>0</td>\n",
       "      <td>0</td>\n",
       "      <td>0</td>\n",
       "      <td>1</td>\n",
       "      <td>0</td>\n",
       "      <td>0</td>\n",
       "      <td>0</td>\n",
       "      <td>0</td>\n",
       "      <td>0</td>\n",
       "      <td>1995</td>\n",
       "    </tr>\n",
       "  </tbody>\n",
       "</table>\n",
       "<p>3 rows × 22 columns</p>\n",
       "</div>"
      ],
      "text/plain": [
       "   Movie_ID                    Title  action  adventure  animation  children  \\\n",
       "0         1         Toy Story (1995)       0          0          1         1   \n",
       "1         2           Jumanji (1995)       0          1          0         1   \n",
       "2         3  Grumpier Old Men (1995)       0          0          0         0   \n",
       "\n",
       "   comedy  crime  documentary  drama  ...  horror  musical  mystery  romance  \\\n",
       "0       1      0            0      0  ...       0        0        0        0   \n",
       "1       0      0            0      0  ...       0        0        0        0   \n",
       "2       1      0            0      0  ...       0        0        0        1   \n",
       "\n",
       "   sci-fi  thriller  war  western  Others  Release_Yr  \n",
       "0       0         0    0        0       0        1995  \n",
       "1       0         0    0        0       0        1995  \n",
       "2       0         0    0        0       0        1995  \n",
       "\n",
       "[3 rows x 22 columns]"
      ]
     },
     "execution_count": 31,
     "metadata": {},
     "output_type": "execute_result"
    }
   ],
   "source": [
    "# We can extract the release year of movies from the Title feature\n",
    "movies['Release_Yr'] = movies['Title'].apply(lambda row: row[-5:-1])\n",
    "movies['Release_Yr'] = movies['Release_Yr'].apply(lambda row: np.nan if row not in str(np.arange(1900, 2020)) else row)\n",
    "movies.head(3)"
   ]
  },
  {
   "cell_type": "code",
   "execution_count": 32,
   "id": "0a9f0146",
   "metadata": {},
   "outputs": [
    {
     "data": {
      "text/plain": [
       "23"
      ]
     },
     "execution_count": 32,
     "metadata": {},
     "output_type": "execute_result"
    }
   ],
   "source": [
    "movies['Release_Yr'].isna().sum()"
   ]
  },
  {
   "cell_type": "code",
   "execution_count": 33,
   "id": "0e0cd88f",
   "metadata": {},
   "outputs": [],
   "source": [
    "# Imputing the missing values with the mode. \n",
    "movies['Release_Yr'].fillna(movies['Release_Yr'].mode()[0], inplace=True)"
   ]
  },
  {
   "cell_type": "code",
   "execution_count": 34,
   "id": "a30f1645",
   "metadata": {},
   "outputs": [
    {
     "data": {
      "text/plain": [
       "Movie_ID       0\n",
       "Title          0\n",
       "action         0\n",
       "adventure      0\n",
       "animation      0\n",
       "children       0\n",
       "comedy         0\n",
       "crime          0\n",
       "documentary    0\n",
       "drama          0\n",
       "fantasy        0\n",
       "film-noir      0\n",
       "horror         0\n",
       "musical        0\n",
       "mystery        0\n",
       "romance        0\n",
       "sci-fi         0\n",
       "thriller       0\n",
       "war            0\n",
       "western        0\n",
       "Others         0\n",
       "Release_Yr     0\n",
       "dtype: int64"
      ]
     },
     "execution_count": 34,
     "metadata": {},
     "output_type": "execute_result"
    }
   ],
   "source": [
    "movies.isna().sum() # We do not have any missing values"
   ]
  },
  {
   "cell_type": "code",
   "execution_count": 35,
   "id": "4b10b6f6",
   "metadata": {},
   "outputs": [],
   "source": [
    "# Making year as int datatype. \n",
    "movies['Release_Yr'] = movies['Release_Yr'].astype(int)"
   ]
  },
  {
   "cell_type": "code",
   "execution_count": 36,
   "id": "a5339229",
   "metadata": {},
   "outputs": [
    {
     "data": {
      "image/png": "[encoded data removed]",
      "text/plain": [
       "<Figure size 1080x360 with 1 Axes>"
      ]
     },
     "metadata": {
      "needs_background": "light"
     },
     "output_type": "display_data"
    }
   ],
   "source": [
    "plt.figure(figsize=(15,5))\n",
    "sns.countplot(movies.Release_Yr)\n",
    "plt.xticks(rotation='90')\n",
    "plt.show()"
   ]
  },
  {
   "cell_type": "markdown",
   "id": "4ade03cf",
   "metadata": {},
   "source": [
    "- Our Dataset contains most of the movies released in the 90s decade. "
   ]
  },
  {
   "cell_type": "markdown",
   "id": "2db77c71",
   "metadata": {},
   "source": [
    "###  Preprocessing users data frame"
   ]
  },
  {
   "cell_type": "code",
   "execution_count": 37,
   "id": "9d0cc924",
   "metadata": {},
   "outputs": [],
   "source": [
    "users = pd.read_fwf('zee-users.dat', encoding='ISO-8859-1')"
   ]
  },
  {
   "cell_type": "code",
   "execution_count": 38,
   "id": "251826bd",
   "metadata": {
    "scrolled": true
   },
   "outputs": [
    {
     "data": {
      "text/html": [
       "<div>\n",
       "<style scoped>\n",
       "    .dataframe tbody tr th:only-of-type {\n",
       "        vertical-align: middle;\n",
       "    }\n",
       "\n",
       "    .dataframe tbody tr th {\n",
       "        vertical-align: top;\n",
       "    }\n",
       "\n",
       "    .dataframe thead th {\n",
       "        text-align: right;\n",
       "    }\n",
       "</style>\n",
       "<table border=\"1\" class=\"dataframe\">\n",
       "  <thead>\n",
       "    <tr style=\"text-align: right;\">\n",
       "      <th></th>\n",
       "      <th>UserID::Gender::Age::Occupation::Zip-code</th>\n",
       "    </tr>\n",
       "  </thead>\n",
       "  <tbody>\n",
       "    <tr>\n",
       "      <th>0</th>\n",
       "      <td>1::F::1::10::48067</td>\n",
       "    </tr>\n",
       "    <tr>\n",
       "      <th>1</th>\n",
       "      <td>2::M::56::16::70072</td>\n",
       "    </tr>\n",
       "  </tbody>\n",
       "</table>\n",
       "</div>"
      ],
      "text/plain": [
       "  UserID::Gender::Age::Occupation::Zip-code\n",
       "0                        1::F::1::10::48067\n",
       "1                       2::M::56::16::70072"
      ]
     },
     "execution_count": 38,
     "metadata": {},
     "output_type": "execute_result"
    }
   ],
   "source": [
    "users.head(2)"
   ]
  },
  {
   "cell_type": "code",
   "execution_count": 39,
   "id": "59dfbea6",
   "metadata": {},
   "outputs": [],
   "source": [
    "users['UserID'] = users.iloc[:,0].apply(lambda rows: rows.split('::')[0])\n",
    "users['Gender'] = users.iloc[:,0].apply(lambda rows: rows.split('::')[1])\n",
    "users['Age'] = users.iloc[:,0].apply(lambda rows: rows.split('::')[2])\n",
    "users['Occupation'] = users.iloc[:,0].apply(lambda rows: rows.split('::')[3])\n",
    "users['Zip-code'] = users.iloc[:,0].apply(lambda rows: rows.split('::')[4])"
   ]
  },
  {
   "cell_type": "code",
   "execution_count": 40,
   "id": "77641011",
   "metadata": {},
   "outputs": [
    {
     "data": {
      "text/html": [
       "<div>\n",
       "<style scoped>\n",
       "    .dataframe tbody tr th:only-of-type {\n",
       "        vertical-align: middle;\n",
       "    }\n",
       "\n",
       "    .dataframe tbody tr th {\n",
       "        vertical-align: top;\n",
       "    }\n",
       "\n",
       "    .dataframe thead th {\n",
       "        text-align: right;\n",
       "    }\n",
       "</style>\n",
       "<table border=\"1\" class=\"dataframe\">\n",
       "  <thead>\n",
       "    <tr style=\"text-align: right;\">\n",
       "      <th></th>\n",
       "      <th>UserID</th>\n",
       "      <th>Gender</th>\n",
       "      <th>Age</th>\n",
       "      <th>Occupation</th>\n",
       "      <th>Zip-code</th>\n",
       "    </tr>\n",
       "  </thead>\n",
       "  <tbody>\n",
       "    <tr>\n",
       "      <th>0</th>\n",
       "      <td>1</td>\n",
       "      <td>F</td>\n",
       "      <td>1</td>\n",
       "      <td>10</td>\n",
       "      <td>48067</td>\n",
       "    </tr>\n",
       "    <tr>\n",
       "      <th>1</th>\n",
       "      <td>2</td>\n",
       "      <td>M</td>\n",
       "      <td>56</td>\n",
       "      <td>16</td>\n",
       "      <td>70072</td>\n",
       "    </tr>\n",
       "  </tbody>\n",
       "</table>\n",
       "</div>"
      ],
      "text/plain": [
       "  UserID Gender Age Occupation Zip-code\n",
       "0      1      F   1         10    48067\n",
       "1      2      M  56         16    70072"
      ]
     },
     "execution_count": 40,
     "metadata": {},
     "output_type": "execute_result"
    }
   ],
   "source": [
    "users.drop('UserID::Gender::Age::Occupation::Zip-code', axis = 1, inplace=True)\n",
    "users.head(2)"
   ]
  },
  {
   "cell_type": "markdown",
   "id": "b29cd931",
   "metadata": {},
   "source": [
    "#### Users feature description\n",
    "\n",
    "- Gender is denoted by a \"M\" for male and \"F\" for female\n",
    "\n",
    "\n",
    "- Age is chosen from the following ranges = (1: \"Under 18\"), (18: \"18-24\"), (25: \"25-34\"), (35: \"35-44\"), (45: \"45-49\"), (50: \"50-55\"), (56: \"56+\")\n",
    "\n",
    "\n",
    "- Occupation is chosen from the following choices = (0: \"other\" or not specified), (1: \"academic/educator\"), (2: \"artist\"), (3: \"clerical/admin\"), (4: \"college/grad student\"), (5: \"customer service\"), (6: \"doctor/health care\"), (7: \"executive/managerial\"), (8: \"farmer\"), (9: \"homemaker\"), (10: \"K-12 student\"), (11: \"lawyer\"), (12: \"programmer\"), (13: \"retired\"), (14: \"sales/marketing\"), (15: \"scientist\"), (16: \"self-employed\"), (17: \"technician/engineer\"), (18: \"tradesman/craftsman\"), (19: \"unemployed\"), (20: \"writer\")"
   ]
  },
  {
   "cell_type": "code",
   "execution_count": 41,
   "id": "a5cee733",
   "metadata": {},
   "outputs": [
    {
     "data": {
      "text/plain": [
       "(6040, 5)"
      ]
     },
     "execution_count": 41,
     "metadata": {},
     "output_type": "execute_result"
    }
   ],
   "source": [
    "users.shape"
   ]
  },
  {
   "cell_type": "code",
   "execution_count": 42,
   "id": "9c1d7da8",
   "metadata": {},
   "outputs": [],
   "source": [
    "# Converting these columns to int data type for replacing. \n",
    "users.UserID = users.UserID.astype(int)\n",
    "users.Occupation = users.Occupation.astype(int)\n",
    "users.Age = users.Age.astype(int)"
   ]
  },
  {
   "cell_type": "code",
   "execution_count": 43,
   "id": "e69afbdc",
   "metadata": {},
   "outputs": [],
   "source": [
    "# Occupation's order does not make sense as it a non ordinal feature. Lets replace the numbers with actual names\n",
    "users['Occupation'] = users['Occupation'].replace({0: \"other or not specified\", 1: \"academic/educator\", 2: \"artist\", \n",
    "                                                   3: \"clerical/admin\", 4: \"college/grad student\", 5: \"customer service\", \n",
    "                                                   6: \"doctor/health care\", 7: \"executive/managerial\", 8: \"farmer\", \n",
    "                                                   9: \"homemaker\", 10: \"K-12 student\", 11: \"lawyer\", 12: \"programmer\", \n",
    "                                                   13: \"retired\", 14: \"sales/marketing\", 15: \"scientist\", 16: \"self-employed\", \n",
    "                                                   17: \"technician/engineer\", 18: \"tradesman/craftsman\", 19: \"unemployed\", \n",
    "                                                   20: \"writer\"})"
   ]
  },
  {
   "cell_type": "code",
   "execution_count": 44,
   "id": "b1a26660",
   "metadata": {},
   "outputs": [],
   "source": [
    "# Eventhough ages are ordered, replacing it with actual names for better analysis\n",
    "users['Age'] = users['Age'].replace({1: \"Under 18\", 18: \"18-24\", 25: \"25-34\", \n",
    "                                                   35: \"35-44\", 45: \"45-49\", 50: \"50-55\", 56: \"56+\"})"
   ]
  },
  {
   "cell_type": "code",
   "execution_count": 45,
   "id": "889a3e4e",
   "metadata": {},
   "outputs": [
    {
     "data": {
      "text/html": [
       "<div>\n",
       "<style scoped>\n",
       "    .dataframe tbody tr th:only-of-type {\n",
       "        vertical-align: middle;\n",
       "    }\n",
       "\n",
       "    .dataframe tbody tr th {\n",
       "        vertical-align: top;\n",
       "    }\n",
       "\n",
       "    .dataframe thead th {\n",
       "        text-align: right;\n",
       "    }\n",
       "</style>\n",
       "<table border=\"1\" class=\"dataframe\">\n",
       "  <thead>\n",
       "    <tr style=\"text-align: right;\">\n",
       "      <th></th>\n",
       "      <th>count</th>\n",
       "      <th>unique</th>\n",
       "      <th>top</th>\n",
       "      <th>freq</th>\n",
       "    </tr>\n",
       "  </thead>\n",
       "  <tbody>\n",
       "    <tr>\n",
       "      <th>Gender</th>\n",
       "      <td>6040</td>\n",
       "      <td>2</td>\n",
       "      <td>M</td>\n",
       "      <td>4331</td>\n",
       "    </tr>\n",
       "    <tr>\n",
       "      <th>Age</th>\n",
       "      <td>6040</td>\n",
       "      <td>7</td>\n",
       "      <td>25-34</td>\n",
       "      <td>2096</td>\n",
       "    </tr>\n",
       "    <tr>\n",
       "      <th>Occupation</th>\n",
       "      <td>6040</td>\n",
       "      <td>21</td>\n",
       "      <td>college/grad student</td>\n",
       "      <td>759</td>\n",
       "    </tr>\n",
       "    <tr>\n",
       "      <th>Zip-code</th>\n",
       "      <td>6040</td>\n",
       "      <td>3439</td>\n",
       "      <td>48104</td>\n",
       "      <td>19</td>\n",
       "    </tr>\n",
       "  </tbody>\n",
       "</table>\n",
       "</div>"
      ],
      "text/plain": [
       "           count unique                   top  freq\n",
       "Gender      6040      2                     M  4331\n",
       "Age         6040      7                 25-34  2096\n",
       "Occupation  6040     21  college/grad student   759\n",
       "Zip-code    6040   3439                 48104    19"
      ]
     },
     "execution_count": 45,
     "metadata": {},
     "output_type": "execute_result"
    }
   ],
   "source": [
    "users.describe(exclude=np.number).T"
   ]
  },
  {
   "cell_type": "code",
   "execution_count": 46,
   "id": "f9308f2c",
   "metadata": {
    "scrolled": false
   },
   "outputs": [
    {
     "data": {
      "image/png": "[encoded data removed]",
      "text/plain": [
       "<Figure size 1080x936 with 3 Axes>"
      ]
     },
     "metadata": {
      "needs_background": "light"
     },
     "output_type": "display_data"
    }
   ],
   "source": [
    "plt.figure(figsize=(15,13))\n",
    "plt.subplot(2,2,1)\n",
    "sns.countplot(users.Age)\n",
    "plt.subplot(2,2,2)\n",
    "sns.countplot(users.Gender)\n",
    "plt.subplot(2,2,3)\n",
    "sns.countplot(y=users.Occupation)\n",
    "plt.show()"
   ]
  },
  {
   "cell_type": "markdown",
   "id": "88fa08ba",
   "metadata": {},
   "source": [
    "##### Most of our watchers are college students and young people between ages 25-34. Also, men watch more than women. "
   ]
  },
  {
   "cell_type": "code",
   "execution_count": 47,
   "id": "488eae1f",
   "metadata": {},
   "outputs": [
    {
     "data": {
      "text/plain": [
       "UserID        0\n",
       "Gender        0\n",
       "Age           0\n",
       "Occupation    0\n",
       "Zip-code      0\n",
       "dtype: int64"
      ]
     },
     "execution_count": 47,
     "metadata": {},
     "output_type": "execute_result"
    }
   ],
   "source": [
    "users.isna().sum() # No missing values found."
   ]
  },
  {
   "cell_type": "markdown",
   "id": "dbb58937",
   "metadata": {},
   "source": [
    "### Preprocessing ratings data frame"
   ]
  },
  {
   "cell_type": "code",
   "execution_count": 48,
   "id": "9c5832e4",
   "metadata": {},
   "outputs": [],
   "source": [
    "ratings = pd.read_fwf('zee-ratings.dat', encoding='ISO-8859-1')"
   ]
  },
  {
   "cell_type": "code",
   "execution_count": 49,
   "id": "abbd9767",
   "metadata": {},
   "outputs": [
    {
     "data": {
      "text/html": [
       "<div>\n",
       "<style scoped>\n",
       "    .dataframe tbody tr th:only-of-type {\n",
       "        vertical-align: middle;\n",
       "    }\n",
       "\n",
       "    .dataframe tbody tr th {\n",
       "        vertical-align: top;\n",
       "    }\n",
       "\n",
       "    .dataframe thead th {\n",
       "        text-align: right;\n",
       "    }\n",
       "</style>\n",
       "<table border=\"1\" class=\"dataframe\">\n",
       "  <thead>\n",
       "    <tr style=\"text-align: right;\">\n",
       "      <th></th>\n",
       "      <th>UserID::MovieID::Rating::Timestamp</th>\n",
       "    </tr>\n",
       "  </thead>\n",
       "  <tbody>\n",
       "    <tr>\n",
       "      <th>0</th>\n",
       "      <td>1::1193::5::978300760</td>\n",
       "    </tr>\n",
       "    <tr>\n",
       "      <th>1</th>\n",
       "      <td>1::661::3::978302109</td>\n",
       "    </tr>\n",
       "  </tbody>\n",
       "</table>\n",
       "</div>"
      ],
      "text/plain": [
       "  UserID::MovieID::Rating::Timestamp\n",
       "0              1::1193::5::978300760\n",
       "1               1::661::3::978302109"
      ]
     },
     "execution_count": 49,
     "metadata": {},
     "output_type": "execute_result"
    }
   ],
   "source": [
    "ratings.head(2)"
   ]
  },
  {
   "cell_type": "code",
   "execution_count": 50,
   "id": "8e8b70f2",
   "metadata": {},
   "outputs": [],
   "source": [
    "ratings['UserID'] = ratings.iloc[:,0].apply(lambda rows: rows.split('::')[0])\n",
    "ratings['Movie_ID'] = ratings.iloc[:,0].apply(lambda rows: rows.split('::')[1])\n",
    "ratings['Rating'] = ratings.iloc[:,0].apply(lambda rows: rows.split('::')[2])\n",
    "ratings['Timestamp'] = ratings.iloc[:,0].apply(lambda rows: rows.split('::')[3])"
   ]
  },
  {
   "cell_type": "code",
   "execution_count": 51,
   "id": "d3f26bd5",
   "metadata": {},
   "outputs": [
    {
     "data": {
      "text/html": [
       "<div>\n",
       "<style scoped>\n",
       "    .dataframe tbody tr th:only-of-type {\n",
       "        vertical-align: middle;\n",
       "    }\n",
       "\n",
       "    .dataframe tbody tr th {\n",
       "        vertical-align: top;\n",
       "    }\n",
       "\n",
       "    .dataframe thead th {\n",
       "        text-align: right;\n",
       "    }\n",
       "</style>\n",
       "<table border=\"1\" class=\"dataframe\">\n",
       "  <thead>\n",
       "    <tr style=\"text-align: right;\">\n",
       "      <th></th>\n",
       "      <th>UserID</th>\n",
       "      <th>Movie_ID</th>\n",
       "      <th>Rating</th>\n",
       "      <th>Timestamp</th>\n",
       "    </tr>\n",
       "  </thead>\n",
       "  <tbody>\n",
       "    <tr>\n",
       "      <th>0</th>\n",
       "      <td>1</td>\n",
       "      <td>1193</td>\n",
       "      <td>5</td>\n",
       "      <td>978300760</td>\n",
       "    </tr>\n",
       "    <tr>\n",
       "      <th>1</th>\n",
       "      <td>1</td>\n",
       "      <td>661</td>\n",
       "      <td>3</td>\n",
       "      <td>978302109</td>\n",
       "    </tr>\n",
       "  </tbody>\n",
       "</table>\n",
       "</div>"
      ],
      "text/plain": [
       "  UserID Movie_ID Rating  Timestamp\n",
       "0      1     1193      5  978300760\n",
       "1      1      661      3  978302109"
      ]
     },
     "execution_count": 51,
     "metadata": {},
     "output_type": "execute_result"
    }
   ],
   "source": [
    "ratings.drop('UserID::MovieID::Rating::Timestamp', axis = 1, inplace=True)\n",
    "ratings.head(2)"
   ]
  },
  {
   "cell_type": "markdown",
   "id": "e3295aa4",
   "metadata": {},
   "source": [
    "- Ratings are made on a 5-star scale (whole-star ratings only)\n",
    "- Timestamp is represented in seconds"
   ]
  },
  {
   "cell_type": "code",
   "execution_count": 52,
   "id": "e77539f0",
   "metadata": {},
   "outputs": [
    {
     "data": {
      "text/plain": [
       "(1000209, 4)"
      ]
     },
     "execution_count": 52,
     "metadata": {},
     "output_type": "execute_result"
    }
   ],
   "source": [
    "ratings.shape"
   ]
  },
  {
   "cell_type": "code",
   "execution_count": 53,
   "id": "4fdb1022",
   "metadata": {},
   "outputs": [
    {
     "name": "stdout",
     "output_type": "stream",
     "text": [
      "<class 'pandas.core.frame.DataFrame'>\n",
      "RangeIndex: 1000209 entries, 0 to 1000208\n",
      "Data columns (total 4 columns):\n",
      " #   Column     Non-Null Count    Dtype \n",
      "---  ------     --------------    ----- \n",
      " 0   UserID     1000209 non-null  object\n",
      " 1   Movie_ID   1000209 non-null  object\n",
      " 2   Rating     1000209 non-null  object\n",
      " 3   Timestamp  1000209 non-null  object\n",
      "dtypes: object(4)\n",
      "memory usage: 30.5+ MB\n"
     ]
    }
   ],
   "source": [
    "ratings.info()"
   ]
  },
  {
   "cell_type": "code",
   "execution_count": 54,
   "id": "3d5be3fc",
   "metadata": {},
   "outputs": [],
   "source": [
    "ratings.UserID = ratings.UserID.astype(int)\n",
    "ratings.Movie_ID = ratings.Movie_ID.astype(int)\n",
    "ratings.Rating = ratings.Rating.astype(int)\n",
    "ratings.Timestamp = ratings.Timestamp.astype(int)"
   ]
  },
  {
   "cell_type": "code",
   "execution_count": 55,
   "id": "5b8fea41",
   "metadata": {},
   "outputs": [
    {
     "data": {
      "text/plain": [
       "count    1.000209e+06\n",
       "mean     3.581564e+00\n",
       "std      1.117102e+00\n",
       "min      1.000000e+00\n",
       "25%      3.000000e+00\n",
       "50%      4.000000e+00\n",
       "75%      4.000000e+00\n",
       "max      5.000000e+00\n",
       "Name: Rating, dtype: float64"
      ]
     },
     "execution_count": 55,
     "metadata": {},
     "output_type": "execute_result"
    }
   ],
   "source": [
    "ratings.Rating.describe()\n",
    "# Average rating is around 3.5"
   ]
  },
  {
   "cell_type": "code",
   "execution_count": 56,
   "id": "c93e0924",
   "metadata": {},
   "outputs": [
    {
     "data": {
      "text/plain": [
       "<AxesSubplot:xlabel='Rating', ylabel='count'>"
      ]
     },
     "execution_count": 56,
     "metadata": {},
     "output_type": "execute_result"
    },
    {
     "data": {
      "image/png": "[encoded data removed]",
      "text/plain": [
       "<Figure size 432x288 with 1 Axes>"
      ]
     },
     "metadata": {
      "needs_background": "light"
     },
     "output_type": "display_data"
    }
   ],
   "source": [
    "sns.countplot(ratings.Rating)\n",
    "# People mostly rate 3,4 and 5. Very few ratings are 1 and 2. The company is mostly aquiring movies which are successful.  "
   ]
  },
  {
   "cell_type": "code",
   "execution_count": 57,
   "id": "4ead1296",
   "metadata": {},
   "outputs": [
    {
     "data": {
      "text/html": [
       "<div>\n",
       "<style scoped>\n",
       "    .dataframe tbody tr th:only-of-type {\n",
       "        vertical-align: middle;\n",
       "    }\n",
       "\n",
       "    .dataframe tbody tr th {\n",
       "        vertical-align: top;\n",
       "    }\n",
       "\n",
       "    .dataframe thead th {\n",
       "        text-align: right;\n",
       "    }\n",
       "</style>\n",
       "<table border=\"1\" class=\"dataframe\">\n",
       "  <thead>\n",
       "    <tr style=\"text-align: right;\">\n",
       "      <th></th>\n",
       "      <th>UserID</th>\n",
       "      <th>Movie_ID</th>\n",
       "      <th>Rating</th>\n",
       "      <th>Timestamp</th>\n",
       "      <th>hour</th>\n",
       "      <th>weekday</th>\n",
       "    </tr>\n",
       "  </thead>\n",
       "  <tbody>\n",
       "    <tr>\n",
       "      <th>0</th>\n",
       "      <td>1</td>\n",
       "      <td>1193</td>\n",
       "      <td>5</td>\n",
       "      <td>978300760</td>\n",
       "      <td>3</td>\n",
       "      <td>Monday</td>\n",
       "    </tr>\n",
       "    <tr>\n",
       "      <th>1</th>\n",
       "      <td>1</td>\n",
       "      <td>661</td>\n",
       "      <td>3</td>\n",
       "      <td>978302109</td>\n",
       "      <td>4</td>\n",
       "      <td>Monday</td>\n",
       "    </tr>\n",
       "    <tr>\n",
       "      <th>2</th>\n",
       "      <td>1</td>\n",
       "      <td>914</td>\n",
       "      <td>3</td>\n",
       "      <td>978301968</td>\n",
       "      <td>4</td>\n",
       "      <td>Monday</td>\n",
       "    </tr>\n",
       "  </tbody>\n",
       "</table>\n",
       "</div>"
      ],
      "text/plain": [
       "   UserID  Movie_ID  Rating  Timestamp  hour weekday\n",
       "0       1      1193       5  978300760     3  Monday\n",
       "1       1       661       3  978302109     4  Monday\n",
       "2       1       914       3  978301968     4  Monday"
      ]
     },
     "execution_count": 57,
     "metadata": {},
     "output_type": "execute_result"
    }
   ],
   "source": [
    "from datetime import datetime\n",
    "ratings['hour'] = ratings['Timestamp'].apply(lambda x: datetime.fromtimestamp(x).hour)\n",
    "ratings['weekday'] = ratings['Timestamp'].apply(lambda x: datetime.fromtimestamp(x).weekday())\n",
    "ratings['weekday'] = ratings['weekday'].replace({0:'Monday', 1:'Tuesday', 2:'Wednesday', \n",
    "                                                 3:'Thursday', 4:'Friday', 5:'Saturday', 6:'Sunday'})\n",
    "ratings.head(3)"
   ]
  },
  {
   "cell_type": "code",
   "execution_count": 58,
   "id": "4494213f",
   "metadata": {},
   "outputs": [
    {
     "data": {
      "image/png": "[encoded data removed]",
      "text/plain": [
       "<Figure size 1080x360 with 2 Axes>"
      ]
     },
     "metadata": {
      "needs_background": "light"
     },
     "output_type": "display_data"
    }
   ],
   "source": [
    "plt.figure(figsize=(15,5))\n",
    "plt.subplot(1,2,1)\n",
    "sns.countplot(ratings.weekday)\n",
    "plt.xticks(rotation='90')\n",
    "plt.subplot(1,2,2)\n",
    "sns.countplot(ratings.hour)\n",
    "plt.show()"
   ]
  },
  {
   "cell_type": "markdown",
   "id": "ce2db8f9",
   "metadata": {},
   "source": [
    "> Surpising to see more number people watching and rating on Monday and tuesday as compared to other days. However, not much can be inferred from the weekdays as there is not much variance in the count.\n",
    "> Considering 11-20 as work hours, count is high for hours other than work. This seems to be an important feature as considerable variance is observed."
   ]
  },
  {
   "cell_type": "code",
   "execution_count": 59,
   "id": "5baa79b8",
   "metadata": {},
   "outputs": [],
   "source": [
    "# Features no longer needed. \n",
    "ratings.drop(['weekday', 'Timestamp'], axis=1, inplace=True)"
   ]
  },
  {
   "cell_type": "markdown",
   "id": "2523de74",
   "metadata": {},
   "source": [
    "### Content based recommender system using Pearson Correlation."
   ]
  },
  {
   "cell_type": "code",
   "execution_count": 60,
   "id": "f3bfcbff",
   "metadata": {},
   "outputs": [
    {
     "data": {
      "text/plain": [
       "(3706, 3883)"
      ]
     },
     "execution_count": 60,
     "metadata": {},
     "output_type": "execute_result"
    }
   ],
   "source": [
    "# We do not have the same movies in both the data frames. \n",
    "ratings['Movie_ID'].nunique(), movies['Movie_ID'].nunique()"
   ]
  },
  {
   "cell_type": "code",
   "execution_count": 61,
   "id": "898181be",
   "metadata": {},
   "outputs": [],
   "source": [
    "# Storing the list of movies present in both movies and ratings data frames\n",
    "movie_list = list(set(ratings['Movie_ID'].unique()) & set(movies['Movie_ID'].unique()))"
   ]
  },
  {
   "cell_type": "code",
   "execution_count": 62,
   "id": "a05be871",
   "metadata": {},
   "outputs": [],
   "source": [
    "# Dropping the rows which are not present in movie_list\n",
    "ratings['Movie_ID'] = ratings['Movie_ID'].apply(lambda val : val if val in movie_list else np.nan)\n",
    "movies['Movie_ID'] = movies['Movie_ID'].apply(lambda val : val if val in movie_list else np.nan)\n",
    "ratings.dropna(inplace = True)\n",
    "movies.dropna(inplace = True)"
   ]
  },
  {
   "cell_type": "code",
   "execution_count": 63,
   "id": "9631ef9a",
   "metadata": {},
   "outputs": [
    {
     "data": {
      "text/plain": [
       "(3706, 3706, 3706)"
      ]
     },
     "execution_count": 63,
     "metadata": {},
     "output_type": "execute_result"
    }
   ],
   "source": [
    "# Now we the same movies in both the dataframes\n",
    "len(movie_list), ratings['Movie_ID'].nunique(), movies['Movie_ID'].nunique()"
   ]
  },
  {
   "cell_type": "code",
   "execution_count": 64,
   "id": "0923bbd8",
   "metadata": {
    "scrolled": true
   },
   "outputs": [],
   "source": [
    "# Avg user ratings of each movie.\n",
    "avg_ratings = ratings.groupby(['Movie_ID'])['Rating'].mean().to_frame()['Rating'].values"
   ]
  },
  {
   "cell_type": "code",
   "execution_count": 65,
   "id": "72c83d4f",
   "metadata": {},
   "outputs": [],
   "source": [
    "# Adding a new avg ratings feature.\n",
    "movies.insert(loc=2, column='Avg_user_rating', value=avg_ratings)"
   ]
  },
  {
   "cell_type": "code",
   "execution_count": 66,
   "id": "c5cbdf52",
   "metadata": {},
   "outputs": [
    {
     "data": {
      "text/html": [
       "<div>\n",
       "<style scoped>\n",
       "    .dataframe tbody tr th:only-of-type {\n",
       "        vertical-align: middle;\n",
       "    }\n",
       "\n",
       "    .dataframe tbody tr th {\n",
       "        vertical-align: top;\n",
       "    }\n",
       "\n",
       "    .dataframe thead th {\n",
       "        text-align: right;\n",
       "    }\n",
       "</style>\n",
       "<table border=\"1\" class=\"dataframe\">\n",
       "  <thead>\n",
       "    <tr style=\"text-align: right;\">\n",
       "      <th></th>\n",
       "      <th>Avg_user_rating</th>\n",
       "      <th>action</th>\n",
       "      <th>adventure</th>\n",
       "      <th>animation</th>\n",
       "      <th>children</th>\n",
       "      <th>comedy</th>\n",
       "      <th>crime</th>\n",
       "      <th>documentary</th>\n",
       "      <th>drama</th>\n",
       "      <th>fantasy</th>\n",
       "      <th>...</th>\n",
       "      <th>horror</th>\n",
       "      <th>musical</th>\n",
       "      <th>mystery</th>\n",
       "      <th>romance</th>\n",
       "      <th>sci-fi</th>\n",
       "      <th>thriller</th>\n",
       "      <th>war</th>\n",
       "      <th>western</th>\n",
       "      <th>Others</th>\n",
       "      <th>Release_Yr</th>\n",
       "    </tr>\n",
       "    <tr>\n",
       "      <th>Title</th>\n",
       "      <th></th>\n",
       "      <th></th>\n",
       "      <th></th>\n",
       "      <th></th>\n",
       "      <th></th>\n",
       "      <th></th>\n",
       "      <th></th>\n",
       "      <th></th>\n",
       "      <th></th>\n",
       "      <th></th>\n",
       "      <th></th>\n",
       "      <th></th>\n",
       "      <th></th>\n",
       "      <th></th>\n",
       "      <th></th>\n",
       "      <th></th>\n",
       "      <th></th>\n",
       "      <th></th>\n",
       "      <th></th>\n",
       "      <th></th>\n",
       "      <th></th>\n",
       "    </tr>\n",
       "  </thead>\n",
       "  <tbody>\n",
       "    <tr>\n",
       "      <th>Toy Story (1995)</th>\n",
       "      <td>4.146846</td>\n",
       "      <td>0</td>\n",
       "      <td>0</td>\n",
       "      <td>1</td>\n",
       "      <td>1</td>\n",
       "      <td>1</td>\n",
       "      <td>0</td>\n",
       "      <td>0</td>\n",
       "      <td>0</td>\n",
       "      <td>0</td>\n",
       "      <td>...</td>\n",
       "      <td>0</td>\n",
       "      <td>0</td>\n",
       "      <td>0</td>\n",
       "      <td>0</td>\n",
       "      <td>0</td>\n",
       "      <td>0</td>\n",
       "      <td>0</td>\n",
       "      <td>0</td>\n",
       "      <td>0</td>\n",
       "      <td>1995</td>\n",
       "    </tr>\n",
       "    <tr>\n",
       "      <th>Jumanji (1995)</th>\n",
       "      <td>3.201141</td>\n",
       "      <td>0</td>\n",
       "      <td>1</td>\n",
       "      <td>0</td>\n",
       "      <td>1</td>\n",
       "      <td>0</td>\n",
       "      <td>0</td>\n",
       "      <td>0</td>\n",
       "      <td>0</td>\n",
       "      <td>1</td>\n",
       "      <td>...</td>\n",
       "      <td>0</td>\n",
       "      <td>0</td>\n",
       "      <td>0</td>\n",
       "      <td>0</td>\n",
       "      <td>0</td>\n",
       "      <td>0</td>\n",
       "      <td>0</td>\n",
       "      <td>0</td>\n",
       "      <td>0</td>\n",
       "      <td>1995</td>\n",
       "    </tr>\n",
       "  </tbody>\n",
       "</table>\n",
       "<p>2 rows × 21 columns</p>\n",
       "</div>"
      ],
      "text/plain": [
       "                  Avg_user_rating  action  adventure  animation  children  \\\n",
       "Title                                                                       \n",
       "Toy Story (1995)         4.146846       0          0          1         1   \n",
       "Jumanji (1995)           3.201141       0          1          0         1   \n",
       "\n",
       "                  comedy  crime  documentary  drama  fantasy  ...  horror  \\\n",
       "Title                                                         ...           \n",
       "Toy Story (1995)       1      0            0      0        0  ...       0   \n",
       "Jumanji (1995)         0      0            0      0        1  ...       0   \n",
       "\n",
       "                  musical  mystery  romance  sci-fi  thriller  war  western  \\\n",
       "Title                                                                         \n",
       "Toy Story (1995)        0        0        0       0         0    0        0   \n",
       "Jumanji (1995)          0        0        0       0         0    0        0   \n",
       "\n",
       "                  Others  Release_Yr  \n",
       "Title                                 \n",
       "Toy Story (1995)       0        1995  \n",
       "Jumanji (1995)         0        1995  \n",
       "\n",
       "[2 rows x 21 columns]"
      ]
     },
     "execution_count": 66,
     "metadata": {},
     "output_type": "execute_result"
    }
   ],
   "source": [
    "movie_ids = movies['Movie_ID'] # Storing this in a variable to use it in the future while adding the embedding features.\n",
    "movies.drop(['Movie_ID'], axis=1, inplace=True) # Dropping movie_ID as it is not needed for now.\n",
    "movies.set_index('Title', inplace=True)\n",
    "movies.head(2)"
   ]
  },
  {
   "cell_type": "code",
   "execution_count": 67,
   "id": "b649880d",
   "metadata": {},
   "outputs": [],
   "source": [
    "def content_based_recomm(movie):\n",
    "    '''Returns top 5 similar genre movies based on users average rating.\n",
    "    Similarity is calculated using pearson correlation'''\n",
    "    lst = movies.corrwith(movies.drop('Avg_user_rating', axis=1).loc[movie], axis=1).sort_values(ascending=False)[1:6].index\n",
    "    film_and_ratings = {}\n",
    "    for films in lst:\n",
    "        film_and_ratings[films] = movies.loc[films]['Avg_user_rating']\n",
    "    return sorted(film_and_ratings, key=film_and_ratings.get, reverse=True)"
   ]
  },
  {
   "cell_type": "code",
   "execution_count": 68,
   "id": "688bfb7e",
   "metadata": {},
   "outputs": [
    {
     "data": {
      "text/html": [
       "<div>\n",
       "<style scoped>\n",
       "    .dataframe tbody tr th:only-of-type {\n",
       "        vertical-align: middle;\n",
       "    }\n",
       "\n",
       "    .dataframe tbody tr th {\n",
       "        vertical-align: top;\n",
       "    }\n",
       "\n",
       "    .dataframe thead th {\n",
       "        text-align: right;\n",
       "    }\n",
       "</style>\n",
       "<table border=\"1\" class=\"dataframe\">\n",
       "  <thead>\n",
       "    <tr style=\"text-align: right;\">\n",
       "      <th></th>\n",
       "      <th>Title</th>\n",
       "      <th>Top_recommendations</th>\n",
       "    </tr>\n",
       "  </thead>\n",
       "  <tbody>\n",
       "    <tr>\n",
       "      <th>0</th>\n",
       "      <td>Toy Story (1995)</td>\n",
       "      <td>['Toy Story 2 (1999)', 'Chicken Run (2000)', \"...</td>\n",
       "    </tr>\n",
       "    <tr>\n",
       "      <th>1</th>\n",
       "      <td>Jumanji (1995)</td>\n",
       "      <td>['Labyrinth (1986)', 'Indian in the Cupboard, ...</td>\n",
       "    </tr>\n",
       "    <tr>\n",
       "      <th>2</th>\n",
       "      <td>Grumpier Old Men (1995)</td>\n",
       "      <td>['French Twist (Gazon maudit) (1995)', 'Sabrin...</td>\n",
       "    </tr>\n",
       "    <tr>\n",
       "      <th>3</th>\n",
       "      <td>Waiting to Exhale (1995)</td>\n",
       "      <td>['Welcome to the Dollhouse (1995)', 'Swimming ...</td>\n",
       "    </tr>\n",
       "    <tr>\n",
       "      <th>4</th>\n",
       "      <td>Father of the Bride Part II (1995)</td>\n",
       "      <td>['Mouth to Mouth (Boca a boca) (1995)', 'In th...</td>\n",
       "    </tr>\n",
       "  </tbody>\n",
       "</table>\n",
       "</div>"
      ],
      "text/plain": [
       "                                Title  \\\n",
       "0                    Toy Story (1995)   \n",
       "1                      Jumanji (1995)   \n",
       "2             Grumpier Old Men (1995)   \n",
       "3            Waiting to Exhale (1995)   \n",
       "4  Father of the Bride Part II (1995)   \n",
       "\n",
       "                                 Top_recommendations  \n",
       "0  ['Toy Story 2 (1999)', 'Chicken Run (2000)', \"...  \n",
       "1  ['Labyrinth (1986)', 'Indian in the Cupboard, ...  \n",
       "2  ['French Twist (Gazon maudit) (1995)', 'Sabrin...  \n",
       "3  ['Welcome to the Dollhouse (1995)', 'Swimming ...  \n",
       "4  ['Mouth to Mouth (Boca a boca) (1995)', 'In th...  "
      ]
     },
     "execution_count": 68,
     "metadata": {},
     "output_type": "execute_result"
    }
   ],
   "source": [
    "### Command execution time is high, hence executing the below lines only once and saving it on my hard drive to reuse it easily. \n",
    "### movies_recomm = pd.Series(movies.index).map(content_based_recomm)\n",
    "### movies_recomm = pd.DataFrame({'Title':movies.index, 'Top_recommendations':movies_recomm.values})\n",
    "### movies_recomm.to_csv('movies_recomm.csv')\n",
    "pd.read_csv('movies_recomm.csv').drop('Unnamed: 0', axis=1).head(5)"
   ]
  },
  {
   "cell_type": "markdown",
   "id": "d6cb4a32",
   "metadata": {},
   "source": [
    "##### Hence, we can deploy \"content_based_recomm\" function to get 5 similar genre top rated movies based on the watched content. We can also directly deploy \"movies_recomm.csv\" on the server to reduce the time complexity. Content based system does not have a cold start problem. "
   ]
  },
  {
   "cell_type": "markdown",
   "id": "251a9f2d",
   "metadata": {},
   "source": [
    "### Recommender System based on Cosine Similarity."
   ]
  },
  {
   "cell_type": "markdown",
   "id": "bd8df5f8",
   "metadata": {},
   "source": [
    "##### User-User Similarity matrix"
   ]
  },
  {
   "cell_type": "code",
   "execution_count": 1183,
   "id": "2c51f35d",
   "metadata": {
    "scrolled": true
   },
   "outputs": [
    {
     "data": {
      "text/html": [
       "<div>\n",
       "<style scoped>\n",
       "    .dataframe tbody tr th:only-of-type {\n",
       "        vertical-align: middle;\n",
       "    }\n",
       "\n",
       "    .dataframe tbody tr th {\n",
       "        vertical-align: top;\n",
       "    }\n",
       "\n",
       "    .dataframe thead th {\n",
       "        text-align: right;\n",
       "    }\n",
       "</style>\n",
       "<table border=\"1\" class=\"dataframe\">\n",
       "  <thead>\n",
       "    <tr style=\"text-align: right;\">\n",
       "      <th></th>\n",
       "      <th>UserID</th>\n",
       "      <th>Rating</th>\n",
       "      <th>hour</th>\n",
       "    </tr>\n",
       "  </thead>\n",
       "  <tbody>\n",
       "    <tr>\n",
       "      <th>0</th>\n",
       "      <td>1</td>\n",
       "      <td>4.188679</td>\n",
       "      <td>3.792453</td>\n",
       "    </tr>\n",
       "    <tr>\n",
       "      <th>1</th>\n",
       "      <td>2</td>\n",
       "      <td>3.713178</td>\n",
       "      <td>2.968992</td>\n",
       "    </tr>\n",
       "    <tr>\n",
       "      <th>2</th>\n",
       "      <td>3</td>\n",
       "      <td>3.901961</td>\n",
       "      <td>2.215686</td>\n",
       "    </tr>\n",
       "  </tbody>\n",
       "</table>\n",
       "</div>"
      ],
      "text/plain": [
       "   UserID    Rating      hour\n",
       "0       1  4.188679  3.792453\n",
       "1       2  3.713178  2.968992\n",
       "2       3  3.901961  2.215686"
      ]
     },
     "execution_count": 1183,
     "metadata": {},
     "output_type": "execute_result"
    }
   ],
   "source": [
    "# Grouping each user and getting their avg rating and avg hour of watching\n",
    "user_avgs = ratings.groupby(['UserID']).agg({'Rating':'mean', 'hour':'mean'}).reset_index()\n",
    "user_avgs.head(3)"
   ]
  },
  {
   "cell_type": "code",
   "execution_count": 1184,
   "id": "f31617da",
   "metadata": {},
   "outputs": [
    {
     "data": {
      "text/plain": [
       "((6040, 3), (6040, 5))"
      ]
     },
     "execution_count": 1184,
     "metadata": {},
     "output_type": "execute_result"
    }
   ],
   "source": [
    "# We have avg ratings of all the users\n",
    "user_avgs.shape, users.shape"
   ]
  },
  {
   "cell_type": "code",
   "execution_count": 1185,
   "id": "a92dd841",
   "metadata": {},
   "outputs": [],
   "source": [
    "# Merging to get avg ratings and hours\n",
    "users = users.merge(user_avgs, on='UserID')"
   ]
  },
  {
   "cell_type": "code",
   "execution_count": 1186,
   "id": "e9eeecb8",
   "metadata": {
    "scrolled": true
   },
   "outputs": [
    {
     "data": {
      "text/html": [
       "<div>\n",
       "<style scoped>\n",
       "    .dataframe tbody tr th:only-of-type {\n",
       "        vertical-align: middle;\n",
       "    }\n",
       "\n",
       "    .dataframe tbody tr th {\n",
       "        vertical-align: top;\n",
       "    }\n",
       "\n",
       "    .dataframe thead th {\n",
       "        text-align: right;\n",
       "    }\n",
       "</style>\n",
       "<table border=\"1\" class=\"dataframe\">\n",
       "  <thead>\n",
       "    <tr style=\"text-align: right;\">\n",
       "      <th></th>\n",
       "      <th>UserID</th>\n",
       "      <th>Gender</th>\n",
       "      <th>Age</th>\n",
       "      <th>Occupation</th>\n",
       "      <th>Zip-code</th>\n",
       "      <th>Avg_rating</th>\n",
       "      <th>Avg_watch_hr</th>\n",
       "    </tr>\n",
       "  </thead>\n",
       "  <tbody>\n",
       "    <tr>\n",
       "      <th>0</th>\n",
       "      <td>1</td>\n",
       "      <td>F</td>\n",
       "      <td>Under 18</td>\n",
       "      <td>K-12 student</td>\n",
       "      <td>48067</td>\n",
       "      <td>4.188679</td>\n",
       "      <td>3.792453</td>\n",
       "    </tr>\n",
       "    <tr>\n",
       "      <th>1</th>\n",
       "      <td>2</td>\n",
       "      <td>M</td>\n",
       "      <td>56+</td>\n",
       "      <td>self-employed</td>\n",
       "      <td>70072</td>\n",
       "      <td>3.713178</td>\n",
       "      <td>2.968992</td>\n",
       "    </tr>\n",
       "    <tr>\n",
       "      <th>2</th>\n",
       "      <td>3</td>\n",
       "      <td>M</td>\n",
       "      <td>25-34</td>\n",
       "      <td>scientist</td>\n",
       "      <td>55117</td>\n",
       "      <td>3.901961</td>\n",
       "      <td>2.215686</td>\n",
       "    </tr>\n",
       "  </tbody>\n",
       "</table>\n",
       "</div>"
      ],
      "text/plain": [
       "   UserID Gender       Age     Occupation Zip-code  Avg_rating  Avg_watch_hr\n",
       "0       1      F  Under 18   K-12 student    48067    4.188679      3.792453\n",
       "1       2      M       56+  self-employed    70072    3.713178      2.968992\n",
       "2       3      M     25-34      scientist    55117    3.901961      2.215686"
      ]
     },
     "execution_count": 1186,
     "metadata": {},
     "output_type": "execute_result"
    }
   ],
   "source": [
    "users.rename(columns={'Rating':'Avg_rating','hour':'Avg_watch_hr'}, inplace=True)\n",
    "users.head(3)"
   ]
  },
  {
   "cell_type": "code",
   "execution_count": 1187,
   "id": "58ebffa1",
   "metadata": {},
   "outputs": [],
   "source": [
    "# Dropping zipcode as it cannot be a feature which decides similarity between users.\n",
    "users.drop('Zip-code', axis=1, inplace=True)"
   ]
  },
  {
   "cell_type": "code",
   "execution_count": 1188,
   "id": "4bd28780",
   "metadata": {},
   "outputs": [
    {
     "data": {
      "text/plain": [
       "UserID          0\n",
       "Gender          0\n",
       "Age             0\n",
       "Occupation      0\n",
       "Avg_rating      0\n",
       "Avg_watch_hr    0\n",
       "dtype: int64"
      ]
     },
     "execution_count": 1188,
     "metadata": {},
     "output_type": "execute_result"
    }
   ],
   "source": [
    "users.isna().sum() # No missing values as of now"
   ]
  },
  {
   "cell_type": "code",
   "execution_count": 1189,
   "id": "a1eee607",
   "metadata": {},
   "outputs": [],
   "source": [
    "# Replacing age with ordinal values\n",
    "users.Age.replace({'Under 18':0, '18-24':1, '25-34':2, '35-44':3, '45-49':4, '50-55':5, '56+':6}, inplace=True)\n",
    "users.Gender.replace({'M':0, 'F':1}, inplace=True) # Replacing Gender with male as 0 and female as 1\n",
    "users.set_index('UserID', inplace=True) # Making user_id as index"
   ]
  },
  {
   "cell_type": "code",
   "execution_count": 1190,
   "id": "22be8b02",
   "metadata": {
    "scrolled": true
   },
   "outputs": [
    {
     "data": {
      "text/html": [
       "<div>\n",
       "<style scoped>\n",
       "    .dataframe tbody tr th:only-of-type {\n",
       "        vertical-align: middle;\n",
       "    }\n",
       "\n",
       "    .dataframe tbody tr th {\n",
       "        vertical-align: top;\n",
       "    }\n",
       "\n",
       "    .dataframe thead th {\n",
       "        text-align: right;\n",
       "    }\n",
       "</style>\n",
       "<table border=\"1\" class=\"dataframe\">\n",
       "  <thead>\n",
       "    <tr style=\"text-align: right;\">\n",
       "      <th></th>\n",
       "      <th>Gender</th>\n",
       "      <th>Age</th>\n",
       "      <th>Avg_rating</th>\n",
       "      <th>Avg_watch_hr</th>\n",
       "      <th>Occupation_K-12 student</th>\n",
       "      <th>Occupation_academic/educator</th>\n",
       "      <th>Occupation_artist</th>\n",
       "      <th>Occupation_clerical/admin</th>\n",
       "      <th>Occupation_college/grad student</th>\n",
       "      <th>Occupation_customer service</th>\n",
       "      <th>...</th>\n",
       "      <th>Occupation_other or not specified</th>\n",
       "      <th>Occupation_programmer</th>\n",
       "      <th>Occupation_retired</th>\n",
       "      <th>Occupation_sales/marketing</th>\n",
       "      <th>Occupation_scientist</th>\n",
       "      <th>Occupation_self-employed</th>\n",
       "      <th>Occupation_technician/engineer</th>\n",
       "      <th>Occupation_tradesman/craftsman</th>\n",
       "      <th>Occupation_unemployed</th>\n",
       "      <th>Occupation_writer</th>\n",
       "    </tr>\n",
       "    <tr>\n",
       "      <th>UserID</th>\n",
       "      <th></th>\n",
       "      <th></th>\n",
       "      <th></th>\n",
       "      <th></th>\n",
       "      <th></th>\n",
       "      <th></th>\n",
       "      <th></th>\n",
       "      <th></th>\n",
       "      <th></th>\n",
       "      <th></th>\n",
       "      <th></th>\n",
       "      <th></th>\n",
       "      <th></th>\n",
       "      <th></th>\n",
       "      <th></th>\n",
       "      <th></th>\n",
       "      <th></th>\n",
       "      <th></th>\n",
       "      <th></th>\n",
       "      <th></th>\n",
       "      <th></th>\n",
       "    </tr>\n",
       "  </thead>\n",
       "  <tbody>\n",
       "    <tr>\n",
       "      <th>1</th>\n",
       "      <td>1.0</td>\n",
       "      <td>0.000000</td>\n",
       "      <td>0.803859</td>\n",
       "      <td>0.164889</td>\n",
       "      <td>1.0</td>\n",
       "      <td>0.0</td>\n",
       "      <td>0.0</td>\n",
       "      <td>0.0</td>\n",
       "      <td>0.0</td>\n",
       "      <td>0.0</td>\n",
       "      <td>...</td>\n",
       "      <td>0.0</td>\n",
       "      <td>0.0</td>\n",
       "      <td>0.0</td>\n",
       "      <td>0.0</td>\n",
       "      <td>0.0</td>\n",
       "      <td>0.0</td>\n",
       "      <td>0.0</td>\n",
       "      <td>0.0</td>\n",
       "      <td>0.0</td>\n",
       "      <td>0.0</td>\n",
       "    </tr>\n",
       "    <tr>\n",
       "      <th>2</th>\n",
       "      <td>0.0</td>\n",
       "      <td>1.000000</td>\n",
       "      <td>0.683405</td>\n",
       "      <td>0.129087</td>\n",
       "      <td>0.0</td>\n",
       "      <td>0.0</td>\n",
       "      <td>0.0</td>\n",
       "      <td>0.0</td>\n",
       "      <td>0.0</td>\n",
       "      <td>0.0</td>\n",
       "      <td>...</td>\n",
       "      <td>0.0</td>\n",
       "      <td>0.0</td>\n",
       "      <td>0.0</td>\n",
       "      <td>0.0</td>\n",
       "      <td>0.0</td>\n",
       "      <td>1.0</td>\n",
       "      <td>0.0</td>\n",
       "      <td>0.0</td>\n",
       "      <td>0.0</td>\n",
       "      <td>0.0</td>\n",
       "    </tr>\n",
       "    <tr>\n",
       "      <th>3</th>\n",
       "      <td>0.0</td>\n",
       "      <td>0.333333</td>\n",
       "      <td>0.731227</td>\n",
       "      <td>0.096334</td>\n",
       "      <td>0.0</td>\n",
       "      <td>0.0</td>\n",
       "      <td>0.0</td>\n",
       "      <td>0.0</td>\n",
       "      <td>0.0</td>\n",
       "      <td>0.0</td>\n",
       "      <td>...</td>\n",
       "      <td>0.0</td>\n",
       "      <td>0.0</td>\n",
       "      <td>0.0</td>\n",
       "      <td>0.0</td>\n",
       "      <td>1.0</td>\n",
       "      <td>0.0</td>\n",
       "      <td>0.0</td>\n",
       "      <td>0.0</td>\n",
       "      <td>0.0</td>\n",
       "      <td>0.0</td>\n",
       "    </tr>\n",
       "  </tbody>\n",
       "</table>\n",
       "<p>3 rows × 25 columns</p>\n",
       "</div>"
      ],
      "text/plain": [
       "        Gender       Age  Avg_rating  Avg_watch_hr  Occupation_K-12 student  \\\n",
       "UserID                                                                        \n",
       "1          1.0  0.000000    0.803859      0.164889                      1.0   \n",
       "2          0.0  1.000000    0.683405      0.129087                      0.0   \n",
       "3          0.0  0.333333    0.731227      0.096334                      0.0   \n",
       "\n",
       "        Occupation_academic/educator  Occupation_artist  \\\n",
       "UserID                                                    \n",
       "1                                0.0                0.0   \n",
       "2                                0.0                0.0   \n",
       "3                                0.0                0.0   \n",
       "\n",
       "        Occupation_clerical/admin  Occupation_college/grad student  \\\n",
       "UserID                                                               \n",
       "1                             0.0                              0.0   \n",
       "2                             0.0                              0.0   \n",
       "3                             0.0                              0.0   \n",
       "\n",
       "        Occupation_customer service  ...  Occupation_other or not specified  \\\n",
       "UserID                               ...                                      \n",
       "1                               0.0  ...                                0.0   \n",
       "2                               0.0  ...                                0.0   \n",
       "3                               0.0  ...                                0.0   \n",
       "\n",
       "        Occupation_programmer  Occupation_retired  Occupation_sales/marketing  \\\n",
       "UserID                                                                          \n",
       "1                         0.0                 0.0                         0.0   \n",
       "2                         0.0                 0.0                         0.0   \n",
       "3                         0.0                 0.0                         0.0   \n",
       "\n",
       "        Occupation_scientist  Occupation_self-employed  \\\n",
       "UserID                                                   \n",
       "1                        0.0                       0.0   \n",
       "2                        0.0                       1.0   \n",
       "3                        1.0                       0.0   \n",
       "\n",
       "        Occupation_technician/engineer  Occupation_tradesman/craftsman  \\\n",
       "UserID                                                                   \n",
       "1                                  0.0                             0.0   \n",
       "2                                  0.0                             0.0   \n",
       "3                                  0.0                             0.0   \n",
       "\n",
       "        Occupation_unemployed  Occupation_writer  \n",
       "UserID                                            \n",
       "1                         0.0                0.0  \n",
       "2                         0.0                0.0  \n",
       "3                         0.0                0.0  \n",
       "\n",
       "[3 rows x 25 columns]"
      ]
     },
     "execution_count": 1190,
     "metadata": {},
     "output_type": "execute_result"
    }
   ],
   "source": [
    "# Scaling the entire users data frame and OHE occupation feature. \n",
    "from sklearn.preprocessing import MinMaxScaler\n",
    "scaler = MinMaxScaler()\n",
    "scaled_users = pd.DataFrame(data=scaler.fit_transform(pd.get_dummies(users, columns=['Occupation'])), \n",
    "                                                 columns=pd.get_dummies(users, columns=['Occupation']).columns,\n",
    "                                                 index=users.index)\n",
    "scaled_users.head(3)"
   ]
  },
  {
   "cell_type": "code",
   "execution_count": 1191,
   "id": "0a2cb198",
   "metadata": {},
   "outputs": [],
   "source": [
    "from scipy.spatial.distance import cosine, pdist, squareform"
   ]
  },
  {
   "cell_type": "code",
   "execution_count": 1192,
   "id": "c7420f6b",
   "metadata": {},
   "outputs": [],
   "source": [
    "def cosine_similarity(x,y):\n",
    "    cos_teta = np.dot(x,y)/(np.linalg.norm(x)*np.linalg.norm(y))\n",
    "    return cos_teta"
   ]
  },
  {
   "cell_type": "code",
   "execution_count": 1193,
   "id": "119bc964",
   "metadata": {},
   "outputs": [],
   "source": [
    "user_similarities = pdist(scaled_users, cosine_similarity)\n",
    "user_similarity_matrix = pd.DataFrame(squareform(user_similarities), columns=scaled_users.index, index=scaled_users.index)"
   ]
  },
  {
   "cell_type": "code",
   "execution_count": 1194,
   "id": "c6825b02",
   "metadata": {},
   "outputs": [
    {
     "data": {
      "text/html": [
       "<div>\n",
       "<style scoped>\n",
       "    .dataframe tbody tr th:only-of-type {\n",
       "        vertical-align: middle;\n",
       "    }\n",
       "\n",
       "    .dataframe tbody tr th {\n",
       "        vertical-align: top;\n",
       "    }\n",
       "\n",
       "    .dataframe thead th {\n",
       "        text-align: right;\n",
       "    }\n",
       "</style>\n",
       "<table border=\"1\" class=\"dataframe\">\n",
       "  <thead>\n",
       "    <tr style=\"text-align: right;\">\n",
       "      <th>UserID</th>\n",
       "      <th>1</th>\n",
       "      <th>2</th>\n",
       "      <th>3</th>\n",
       "      <th>4</th>\n",
       "      <th>5</th>\n",
       "    </tr>\n",
       "    <tr>\n",
       "      <th>UserID</th>\n",
       "      <th></th>\n",
       "      <th></th>\n",
       "      <th></th>\n",
       "      <th></th>\n",
       "      <th></th>\n",
       "    </tr>\n",
       "  </thead>\n",
       "  <tbody>\n",
       "    <tr>\n",
       "      <th>1</th>\n",
       "      <td>0.000000</td>\n",
       "      <td>0.221455</td>\n",
       "      <td>0.286994</td>\n",
       "      <td>0.276346</td>\n",
       "      <td>0.245712</td>\n",
       "    </tr>\n",
       "    <tr>\n",
       "      <th>2</th>\n",
       "      <td>0.221455</td>\n",
       "      <td>0.000000</td>\n",
       "      <td>0.417013</td>\n",
       "      <td>0.535911</td>\n",
       "      <td>0.378146</td>\n",
       "    </tr>\n",
       "    <tr>\n",
       "      <th>3</th>\n",
       "      <td>0.286994</td>\n",
       "      <td>0.417013</td>\n",
       "      <td>0.000000</td>\n",
       "      <td>0.437618</td>\n",
       "      <td>0.334703</td>\n",
       "    </tr>\n",
       "    <tr>\n",
       "      <th>4</th>\n",
       "      <td>0.276346</td>\n",
       "      <td>0.535911</td>\n",
       "      <td>0.437618</td>\n",
       "      <td>0.000000</td>\n",
       "      <td>0.364032</td>\n",
       "    </tr>\n",
       "    <tr>\n",
       "      <th>5</th>\n",
       "      <td>0.245712</td>\n",
       "      <td>0.378146</td>\n",
       "      <td>0.334703</td>\n",
       "      <td>0.364032</td>\n",
       "      <td>0.000000</td>\n",
       "    </tr>\n",
       "  </tbody>\n",
       "</table>\n",
       "</div>"
      ],
      "text/plain": [
       "UserID         1         2         3         4         5\n",
       "UserID                                                  \n",
       "1       0.000000  0.221455  0.286994  0.276346  0.245712\n",
       "2       0.221455  0.000000  0.417013  0.535911  0.378146\n",
       "3       0.286994  0.417013  0.000000  0.437618  0.334703\n",
       "4       0.276346  0.535911  0.437618  0.000000  0.364032\n",
       "5       0.245712  0.378146  0.334703  0.364032  0.000000"
      ]
     },
     "execution_count": 1194,
     "metadata": {},
     "output_type": "execute_result"
    }
   ],
   "source": [
    "user_similarity_matrix.iloc[0:5,0:5]"
   ]
  },
  {
   "cell_type": "code",
   "execution_count": 1195,
   "id": "42749225",
   "metadata": {},
   "outputs": [],
   "source": [
    "def similar_users(user):\n",
    "    return user_similarity_matrix[user].sort_values(ascending=False)[:5].index"
   ]
  },
  {
   "cell_type": "markdown",
   "id": "2fbaf96c",
   "metadata": {},
   "source": [
    "##### Item-Item Similarity matrix"
   ]
  },
  {
   "cell_type": "code",
   "execution_count": 1200,
   "id": "dceed219",
   "metadata": {
    "scrolled": true
   },
   "outputs": [
    {
     "data": {
      "text/html": [
       "<div>\n",
       "<style scoped>\n",
       "    .dataframe tbody tr th:only-of-type {\n",
       "        vertical-align: middle;\n",
       "    }\n",
       "\n",
       "    .dataframe tbody tr th {\n",
       "        vertical-align: top;\n",
       "    }\n",
       "\n",
       "    .dataframe thead th {\n",
       "        text-align: right;\n",
       "    }\n",
       "</style>\n",
       "<table border=\"1\" class=\"dataframe\">\n",
       "  <thead>\n",
       "    <tr style=\"text-align: right;\">\n",
       "      <th></th>\n",
       "      <th>Avg_user_rating</th>\n",
       "      <th>action</th>\n",
       "      <th>adventure</th>\n",
       "      <th>animation</th>\n",
       "      <th>children</th>\n",
       "      <th>comedy</th>\n",
       "      <th>crime</th>\n",
       "      <th>documentary</th>\n",
       "      <th>drama</th>\n",
       "      <th>fantasy</th>\n",
       "      <th>...</th>\n",
       "      <th>horror</th>\n",
       "      <th>musical</th>\n",
       "      <th>mystery</th>\n",
       "      <th>romance</th>\n",
       "      <th>sci-fi</th>\n",
       "      <th>thriller</th>\n",
       "      <th>war</th>\n",
       "      <th>western</th>\n",
       "      <th>Others</th>\n",
       "      <th>Release_Yr</th>\n",
       "    </tr>\n",
       "    <tr>\n",
       "      <th>Title</th>\n",
       "      <th></th>\n",
       "      <th></th>\n",
       "      <th></th>\n",
       "      <th></th>\n",
       "      <th></th>\n",
       "      <th></th>\n",
       "      <th></th>\n",
       "      <th></th>\n",
       "      <th></th>\n",
       "      <th></th>\n",
       "      <th></th>\n",
       "      <th></th>\n",
       "      <th></th>\n",
       "      <th></th>\n",
       "      <th></th>\n",
       "      <th></th>\n",
       "      <th></th>\n",
       "      <th></th>\n",
       "      <th></th>\n",
       "      <th></th>\n",
       "      <th></th>\n",
       "    </tr>\n",
       "  </thead>\n",
       "  <tbody>\n",
       "    <tr>\n",
       "      <th>Toy Story (1995)</th>\n",
       "      <td>1.349448</td>\n",
       "      <td>-0.391713</td>\n",
       "      <td>-0.285881</td>\n",
       "      <td>5.885118</td>\n",
       "      <td>3.742198</td>\n",
       "      <td>1.488027</td>\n",
       "      <td>-0.238841</td>\n",
       "      <td>-0.172425</td>\n",
       "      <td>-0.811731</td>\n",
       "      <td>-0.130439</td>\n",
       "      <td>...</td>\n",
       "      <td>-0.315758</td>\n",
       "      <td>-0.176531</td>\n",
       "      <td>-0.169078</td>\n",
       "      <td>-0.371291</td>\n",
       "      <td>0.0</td>\n",
       "      <td>-0.386657</td>\n",
       "      <td>-0.195924</td>\n",
       "      <td>-0.13569</td>\n",
       "      <td>0.0</td>\n",
       "      <td>0.531533</td>\n",
       "    </tr>\n",
       "    <tr>\n",
       "      <th>Jumanji (1995)</th>\n",
       "      <td>-0.056107</td>\n",
       "      <td>-0.391713</td>\n",
       "      <td>3.497959</td>\n",
       "      <td>-0.169920</td>\n",
       "      <td>3.742198</td>\n",
       "      <td>-0.672031</td>\n",
       "      <td>-0.238841</td>\n",
       "      <td>-0.172425</td>\n",
       "      <td>-0.811731</td>\n",
       "      <td>7.666433</td>\n",
       "      <td>...</td>\n",
       "      <td>-0.315758</td>\n",
       "      <td>-0.176531</td>\n",
       "      <td>-0.169078</td>\n",
       "      <td>-0.371291</td>\n",
       "      <td>0.0</td>\n",
       "      <td>-0.386657</td>\n",
       "      <td>-0.195924</td>\n",
       "      <td>-0.13569</td>\n",
       "      <td>0.0</td>\n",
       "      <td>0.531533</td>\n",
       "    </tr>\n",
       "    <tr>\n",
       "      <th>Grumpier Old Men (1995)</th>\n",
       "      <td>-0.330179</td>\n",
       "      <td>-0.391713</td>\n",
       "      <td>-0.285881</td>\n",
       "      <td>-0.169920</td>\n",
       "      <td>-0.267223</td>\n",
       "      <td>1.488027</td>\n",
       "      <td>-0.238841</td>\n",
       "      <td>-0.172425</td>\n",
       "      <td>-0.811731</td>\n",
       "      <td>-0.130439</td>\n",
       "      <td>...</td>\n",
       "      <td>-0.315758</td>\n",
       "      <td>-0.176531</td>\n",
       "      <td>-0.169078</td>\n",
       "      <td>2.693306</td>\n",
       "      <td>0.0</td>\n",
       "      <td>-0.386657</td>\n",
       "      <td>-0.195924</td>\n",
       "      <td>-0.13569</td>\n",
       "      <td>0.0</td>\n",
       "      <td>0.531533</td>\n",
       "    </tr>\n",
       "  </tbody>\n",
       "</table>\n",
       "<p>3 rows × 21 columns</p>\n",
       "</div>"
      ],
      "text/plain": [
       "                         Avg_user_rating    action  adventure  animation  \\\n",
       "Title                                                                      \n",
       "Toy Story (1995)                1.349448 -0.391713  -0.285881   5.885118   \n",
       "Jumanji (1995)                 -0.056107 -0.391713   3.497959  -0.169920   \n",
       "Grumpier Old Men (1995)        -0.330179 -0.391713  -0.285881  -0.169920   \n",
       "\n",
       "                         children    comedy     crime  documentary     drama  \\\n",
       "Title                                                                          \n",
       "Toy Story (1995)         3.742198  1.488027 -0.238841    -0.172425 -0.811731   \n",
       "Jumanji (1995)           3.742198 -0.672031 -0.238841    -0.172425 -0.811731   \n",
       "Grumpier Old Men (1995) -0.267223  1.488027 -0.238841    -0.172425 -0.811731   \n",
       "\n",
       "                          fantasy  ...    horror   musical   mystery  \\\n",
       "Title                              ...                                 \n",
       "Toy Story (1995)        -0.130439  ... -0.315758 -0.176531 -0.169078   \n",
       "Jumanji (1995)           7.666433  ... -0.315758 -0.176531 -0.169078   \n",
       "Grumpier Old Men (1995) -0.130439  ... -0.315758 -0.176531 -0.169078   \n",
       "\n",
       "                          romance  sci-fi  thriller       war  western  \\\n",
       "Title                                                                    \n",
       "Toy Story (1995)        -0.371291     0.0 -0.386657 -0.195924 -0.13569   \n",
       "Jumanji (1995)          -0.371291     0.0 -0.386657 -0.195924 -0.13569   \n",
       "Grumpier Old Men (1995)  2.693306     0.0 -0.386657 -0.195924 -0.13569   \n",
       "\n",
       "                         Others  Release_Yr  \n",
       "Title                                        \n",
       "Toy Story (1995)            0.0    0.531533  \n",
       "Jumanji (1995)              0.0    0.531533  \n",
       "Grumpier Old Men (1995)     0.0    0.531533  \n",
       "\n",
       "[3 rows x 21 columns]"
      ]
     },
     "execution_count": 1200,
     "metadata": {},
     "output_type": "execute_result"
    }
   ],
   "source": [
    "# Scaling the entire movies data frame. \n",
    "from sklearn.preprocessing import StandardScaler\n",
    "scaler = StandardScaler()\n",
    "scaled_movies = pd.DataFrame(scaler.fit_transform(movies), index=movies.index, columns=movies.columns)\n",
    "scaled_movies.head(3)"
   ]
  },
  {
   "cell_type": "code",
   "execution_count": 1201,
   "id": "ddd4c0ad",
   "metadata": {},
   "outputs": [],
   "source": [
    "movie_similarities = pdist(movies.drop('Avg_user_rating', axis=1), cosine_similarity)\n",
    "movie_similarity_matrix = pd.DataFrame(squareform(movie_similarities), columns=movies.index, index=movies.index)"
   ]
  },
  {
   "cell_type": "code",
   "execution_count": 1202,
   "id": "57e3d9a0",
   "metadata": {
    "scrolled": false
   },
   "outputs": [
    {
     "data": {
      "text/html": [
       "<div>\n",
       "<style scoped>\n",
       "    .dataframe tbody tr th:only-of-type {\n",
       "        vertical-align: middle;\n",
       "    }\n",
       "\n",
       "    .dataframe tbody tr th {\n",
       "        vertical-align: top;\n",
       "    }\n",
       "\n",
       "    .dataframe thead th {\n",
       "        text-align: right;\n",
       "    }\n",
       "</style>\n",
       "<table border=\"1\" class=\"dataframe\">\n",
       "  <thead>\n",
       "    <tr style=\"text-align: right;\">\n",
       "      <th>Title</th>\n",
       "      <th>Toy Story (1995)</th>\n",
       "      <th>Jumanji (1995)</th>\n",
       "      <th>Grumpier Old Men (1995)</th>\n",
       "      <th>Waiting to Exhale (1995)</th>\n",
       "      <th>Father of the Bride Part II (1995)</th>\n",
       "    </tr>\n",
       "    <tr>\n",
       "      <th>Title</th>\n",
       "      <th></th>\n",
       "      <th></th>\n",
       "      <th></th>\n",
       "      <th></th>\n",
       "      <th></th>\n",
       "    </tr>\n",
       "  </thead>\n",
       "  <tbody>\n",
       "    <tr>\n",
       "      <th>Toy Story (1995)</th>\n",
       "      <td>0.000000</td>\n",
       "      <td>0.999999</td>\n",
       "      <td>1.000000</td>\n",
       "      <td>1.000000</td>\n",
       "      <td>1.000000</td>\n",
       "    </tr>\n",
       "    <tr>\n",
       "      <th>Jumanji (1995)</th>\n",
       "      <td>0.999999</td>\n",
       "      <td>0.000000</td>\n",
       "      <td>0.999999</td>\n",
       "      <td>0.999999</td>\n",
       "      <td>0.999999</td>\n",
       "    </tr>\n",
       "    <tr>\n",
       "      <th>Grumpier Old Men (1995)</th>\n",
       "      <td>1.000000</td>\n",
       "      <td>0.999999</td>\n",
       "      <td>0.000000</td>\n",
       "      <td>1.000000</td>\n",
       "      <td>1.000000</td>\n",
       "    </tr>\n",
       "    <tr>\n",
       "      <th>Waiting to Exhale (1995)</th>\n",
       "      <td>1.000000</td>\n",
       "      <td>0.999999</td>\n",
       "      <td>1.000000</td>\n",
       "      <td>0.000000</td>\n",
       "      <td>1.000000</td>\n",
       "    </tr>\n",
       "    <tr>\n",
       "      <th>Father of the Bride Part II (1995)</th>\n",
       "      <td>1.000000</td>\n",
       "      <td>0.999999</td>\n",
       "      <td>1.000000</td>\n",
       "      <td>1.000000</td>\n",
       "      <td>0.000000</td>\n",
       "    </tr>\n",
       "  </tbody>\n",
       "</table>\n",
       "</div>"
      ],
      "text/plain": [
       "Title                               Toy Story (1995)  Jumanji (1995)  \\\n",
       "Title                                                                  \n",
       "Toy Story (1995)                            0.000000        0.999999   \n",
       "Jumanji (1995)                              0.999999        0.000000   \n",
       "Grumpier Old Men (1995)                     1.000000        0.999999   \n",
       "Waiting to Exhale (1995)                    1.000000        0.999999   \n",
       "Father of the Bride Part II (1995)          1.000000        0.999999   \n",
       "\n",
       "Title                               Grumpier Old Men (1995)  \\\n",
       "Title                                                         \n",
       "Toy Story (1995)                                   1.000000   \n",
       "Jumanji (1995)                                     0.999999   \n",
       "Grumpier Old Men (1995)                            0.000000   \n",
       "Waiting to Exhale (1995)                           1.000000   \n",
       "Father of the Bride Part II (1995)                 1.000000   \n",
       "\n",
       "Title                               Waiting to Exhale (1995)  \\\n",
       "Title                                                          \n",
       "Toy Story (1995)                                    1.000000   \n",
       "Jumanji (1995)                                      0.999999   \n",
       "Grumpier Old Men (1995)                             1.000000   \n",
       "Waiting to Exhale (1995)                            0.000000   \n",
       "Father of the Bride Part II (1995)                  1.000000   \n",
       "\n",
       "Title                               Father of the Bride Part II (1995)  \n",
       "Title                                                                   \n",
       "Toy Story (1995)                                              1.000000  \n",
       "Jumanji (1995)                                                0.999999  \n",
       "Grumpier Old Men (1995)                                       1.000000  \n",
       "Waiting to Exhale (1995)                                      1.000000  \n",
       "Father of the Bride Part II (1995)                            0.000000  "
      ]
     },
     "execution_count": 1202,
     "metadata": {},
     "output_type": "execute_result"
    }
   ],
   "source": [
    "movie_similarity_matrix.iloc[0:5,0:5]"
   ]
  },
  {
   "cell_type": "code",
   "execution_count": 1203,
   "id": "658bb678",
   "metadata": {},
   "outputs": [],
   "source": [
    "def similar_movies(movie):\n",
    "    return movie_similarity_matrix[movie].sort_values(ascending=False)[:5].index"
   ]
  },
  {
   "cell_type": "code",
   "execution_count": 1204,
   "id": "276c66c8",
   "metadata": {},
   "outputs": [
    {
     "data": {
      "text/plain": [
       "Index(['Aladdin and the King of Thieves (1996)', 'Bug's Life, A (1998)',\n",
       "       'Rugrats Movie, The (1998)', 'Toy Story 2 (1999)',\n",
       "       'Chicken Run (2000)'],\n",
       "      dtype='object', name='Title')"
      ]
     },
     "execution_count": 1204,
     "metadata": {},
     "output_type": "execute_result"
    }
   ],
   "source": [
    "similar_movies('Toy Story (1995)')"
   ]
  },
  {
   "cell_type": "markdown",
   "id": "feccc1ca",
   "metadata": {},
   "source": [
    "##### We can use similar_users and similar_movies function along with the matrices to get the top 5 similar users and 5 similar movies."
   ]
  },
  {
   "cell_type": "markdown",
   "id": "38352f07",
   "metadata": {},
   "source": [
    "### Recommender System based on Matrix Factorization"
   ]
  },
  {
   "cell_type": "code",
   "execution_count": 1205,
   "id": "6eac2e3a",
   "metadata": {
    "scrolled": true
   },
   "outputs": [
    {
     "data": {
      "text/html": [
       "<div>\n",
       "<style scoped>\n",
       "    .dataframe tbody tr th:only-of-type {\n",
       "        vertical-align: middle;\n",
       "    }\n",
       "\n",
       "    .dataframe tbody tr th {\n",
       "        vertical-align: top;\n",
       "    }\n",
       "\n",
       "    .dataframe thead th {\n",
       "        text-align: right;\n",
       "    }\n",
       "</style>\n",
       "<table border=\"1\" class=\"dataframe\">\n",
       "  <thead>\n",
       "    <tr style=\"text-align: right;\">\n",
       "      <th></th>\n",
       "      <th>UserID</th>\n",
       "      <th>Movie_ID</th>\n",
       "      <th>Rating</th>\n",
       "      <th>hour</th>\n",
       "    </tr>\n",
       "  </thead>\n",
       "  <tbody>\n",
       "    <tr>\n",
       "      <th>0</th>\n",
       "      <td>1</td>\n",
       "      <td>1193</td>\n",
       "      <td>5</td>\n",
       "      <td>3</td>\n",
       "    </tr>\n",
       "    <tr>\n",
       "      <th>1</th>\n",
       "      <td>1</td>\n",
       "      <td>661</td>\n",
       "      <td>3</td>\n",
       "      <td>4</td>\n",
       "    </tr>\n",
       "    <tr>\n",
       "      <th>2</th>\n",
       "      <td>1</td>\n",
       "      <td>914</td>\n",
       "      <td>3</td>\n",
       "      <td>4</td>\n",
       "    </tr>\n",
       "  </tbody>\n",
       "</table>\n",
       "</div>"
      ],
      "text/plain": [
       "   UserID  Movie_ID  Rating  hour\n",
       "0       1      1193       5     3\n",
       "1       1       661       3     4\n",
       "2       1       914       3     4"
      ]
     },
     "execution_count": 1205,
     "metadata": {},
     "output_type": "execute_result"
    }
   ],
   "source": [
    "ratings.head(3)"
   ]
  },
  {
   "cell_type": "code",
   "execution_count": 1209,
   "id": "fa7dca1a",
   "metadata": {},
   "outputs": [
    {
     "data": {
      "text/html": [
       "<div>\n",
       "<style scoped>\n",
       "    .dataframe tbody tr th:only-of-type {\n",
       "        vertical-align: middle;\n",
       "    }\n",
       "\n",
       "    .dataframe tbody tr th {\n",
       "        vertical-align: top;\n",
       "    }\n",
       "\n",
       "    .dataframe thead th {\n",
       "        text-align: right;\n",
       "    }\n",
       "</style>\n",
       "<table border=\"1\" class=\"dataframe\">\n",
       "  <thead>\n",
       "    <tr style=\"text-align: right;\">\n",
       "      <th>Movie_ID</th>\n",
       "      <th>1</th>\n",
       "      <th>2</th>\n",
       "      <th>3</th>\n",
       "      <th>4</th>\n",
       "      <th>5</th>\n",
       "      <th>6</th>\n",
       "      <th>7</th>\n",
       "      <th>8</th>\n",
       "      <th>9</th>\n",
       "      <th>10</th>\n",
       "      <th>...</th>\n",
       "      <th>3943</th>\n",
       "      <th>3944</th>\n",
       "      <th>3945</th>\n",
       "      <th>3946</th>\n",
       "      <th>3947</th>\n",
       "      <th>3948</th>\n",
       "      <th>3949</th>\n",
       "      <th>3950</th>\n",
       "      <th>3951</th>\n",
       "      <th>3952</th>\n",
       "    </tr>\n",
       "    <tr>\n",
       "      <th>UserID</th>\n",
       "      <th></th>\n",
       "      <th></th>\n",
       "      <th></th>\n",
       "      <th></th>\n",
       "      <th></th>\n",
       "      <th></th>\n",
       "      <th></th>\n",
       "      <th></th>\n",
       "      <th></th>\n",
       "      <th></th>\n",
       "      <th></th>\n",
       "      <th></th>\n",
       "      <th></th>\n",
       "      <th></th>\n",
       "      <th></th>\n",
       "      <th></th>\n",
       "      <th></th>\n",
       "      <th></th>\n",
       "      <th></th>\n",
       "      <th></th>\n",
       "      <th></th>\n",
       "    </tr>\n",
       "  </thead>\n",
       "  <tbody>\n",
       "    <tr>\n",
       "      <th>1</th>\n",
       "      <td>5.0</td>\n",
       "      <td>0.0</td>\n",
       "      <td>0.0</td>\n",
       "      <td>0.0</td>\n",
       "      <td>0.0</td>\n",
       "      <td>0.0</td>\n",
       "      <td>0.0</td>\n",
       "      <td>0.0</td>\n",
       "      <td>0.0</td>\n",
       "      <td>0.0</td>\n",
       "      <td>...</td>\n",
       "      <td>0.0</td>\n",
       "      <td>0.0</td>\n",
       "      <td>0.0</td>\n",
       "      <td>0.0</td>\n",
       "      <td>0.0</td>\n",
       "      <td>0.0</td>\n",
       "      <td>0.0</td>\n",
       "      <td>0.0</td>\n",
       "      <td>0.0</td>\n",
       "      <td>0.0</td>\n",
       "    </tr>\n",
       "    <tr>\n",
       "      <th>2</th>\n",
       "      <td>0.0</td>\n",
       "      <td>0.0</td>\n",
       "      <td>0.0</td>\n",
       "      <td>0.0</td>\n",
       "      <td>0.0</td>\n",
       "      <td>0.0</td>\n",
       "      <td>0.0</td>\n",
       "      <td>0.0</td>\n",
       "      <td>0.0</td>\n",
       "      <td>0.0</td>\n",
       "      <td>...</td>\n",
       "      <td>0.0</td>\n",
       "      <td>0.0</td>\n",
       "      <td>0.0</td>\n",
       "      <td>0.0</td>\n",
       "      <td>0.0</td>\n",
       "      <td>0.0</td>\n",
       "      <td>0.0</td>\n",
       "      <td>0.0</td>\n",
       "      <td>0.0</td>\n",
       "      <td>0.0</td>\n",
       "    </tr>\n",
       "    <tr>\n",
       "      <th>3</th>\n",
       "      <td>0.0</td>\n",
       "      <td>0.0</td>\n",
       "      <td>0.0</td>\n",
       "      <td>0.0</td>\n",
       "      <td>0.0</td>\n",
       "      <td>0.0</td>\n",
       "      <td>0.0</td>\n",
       "      <td>0.0</td>\n",
       "      <td>0.0</td>\n",
       "      <td>0.0</td>\n",
       "      <td>...</td>\n",
       "      <td>0.0</td>\n",
       "      <td>0.0</td>\n",
       "      <td>0.0</td>\n",
       "      <td>0.0</td>\n",
       "      <td>0.0</td>\n",
       "      <td>0.0</td>\n",
       "      <td>0.0</td>\n",
       "      <td>0.0</td>\n",
       "      <td>0.0</td>\n",
       "      <td>0.0</td>\n",
       "    </tr>\n",
       "  </tbody>\n",
       "</table>\n",
       "<p>3 rows × 3706 columns</p>\n",
       "</div>"
      ],
      "text/plain": [
       "Movie_ID  1     2     3     4     5     6     7     8     9     10    ...  \\\n",
       "UserID                                                                ...   \n",
       "1          5.0   0.0   0.0   0.0   0.0   0.0   0.0   0.0   0.0   0.0  ...   \n",
       "2          0.0   0.0   0.0   0.0   0.0   0.0   0.0   0.0   0.0   0.0  ...   \n",
       "3          0.0   0.0   0.0   0.0   0.0   0.0   0.0   0.0   0.0   0.0  ...   \n",
       "\n",
       "Movie_ID  3943  3944  3945  3946  3947  3948  3949  3950  3951  3952  \n",
       "UserID                                                                \n",
       "1          0.0   0.0   0.0   0.0   0.0   0.0   0.0   0.0   0.0   0.0  \n",
       "2          0.0   0.0   0.0   0.0   0.0   0.0   0.0   0.0   0.0   0.0  \n",
       "3          0.0   0.0   0.0   0.0   0.0   0.0   0.0   0.0   0.0   0.0  \n",
       "\n",
       "[3 rows x 3706 columns]"
      ]
     },
     "execution_count": 1209,
     "metadata": {},
     "output_type": "execute_result"
    }
   ],
   "source": [
    "# Actual rating matrix. (USER X MOVIES)\n",
    "rm_actual = ratings.pivot(index = 'UserID', columns ='Movie_ID', values = 'Rating').fillna(0)\n",
    "rm_actual.head(3)"
   ]
  },
  {
   "cell_type": "code",
   "execution_count": 1206,
   "id": "f8a68754",
   "metadata": {},
   "outputs": [
    {
     "data": {
      "text/plain": [
       "4.468362562231285"
      ]
     },
     "execution_count": 1206,
     "metadata": {},
     "output_type": "execute_result"
    }
   ],
   "source": [
    "# We have a very sparse matrix as only 4.5 % of the total values have been rated.\n",
    "(rm_actual > 0).sum().sum() / (rm_actual.shape[0] * rm_actual.shape[1])*100"
   ]
  },
  {
   "cell_type": "code",
   "execution_count": 1207,
   "id": "5ff58f30",
   "metadata": {},
   "outputs": [
    {
     "data": {
      "text/html": [
       "<div>\n",
       "<style scoped>\n",
       "    .dataframe tbody tr th:only-of-type {\n",
       "        vertical-align: middle;\n",
       "    }\n",
       "\n",
       "    .dataframe tbody tr th {\n",
       "        vertical-align: top;\n",
       "    }\n",
       "\n",
       "    .dataframe thead th {\n",
       "        text-align: right;\n",
       "    }\n",
       "</style>\n",
       "<table border=\"1\" class=\"dataframe\">\n",
       "  <thead>\n",
       "    <tr style=\"text-align: right;\">\n",
       "      <th></th>\n",
       "      <th>UserId</th>\n",
       "      <th>ItemId</th>\n",
       "      <th>Rating</th>\n",
       "    </tr>\n",
       "  </thead>\n",
       "  <tbody>\n",
       "    <tr>\n",
       "      <th>0</th>\n",
       "      <td>1</td>\n",
       "      <td>1193</td>\n",
       "      <td>5</td>\n",
       "    </tr>\n",
       "    <tr>\n",
       "      <th>1</th>\n",
       "      <td>1</td>\n",
       "      <td>661</td>\n",
       "      <td>3</td>\n",
       "    </tr>\n",
       "  </tbody>\n",
       "</table>\n",
       "</div>"
      ],
      "text/plain": [
       "   UserId  ItemId  Rating\n",
       "0       1    1193       5\n",
       "1       1     661       3"
      ]
     },
     "execution_count": 1207,
     "metadata": {},
     "output_type": "execute_result"
    }
   ],
   "source": [
    "rm_raw = ratings[['UserID', 'Movie_ID', 'Rating']].copy()\n",
    "rm_raw.columns = ['UserId', 'ItemId', 'Rating']\n",
    "rm_raw.head(2)"
   ]
  },
  {
   "cell_type": "code",
   "execution_count": 1208,
   "id": "41dba33b",
   "metadata": {},
   "outputs": [],
   "source": [
    "from cmfrec import CMF\n",
    "from sklearn.metrics import mean_absolute_percentage_error as mape, mean_squared_error as mse\n",
    "\n",
    "rmses = []\n",
    "mapes = []\n",
    "\n",
    "i = 90\n",
    "\n",
    "while i <= 10**2:\n",
    "    model = CMF(method=\"lbfgs\", k=4, lambda_= i, verbose=False)\n",
    "    model.fit(rm_raw)\n",
    "    rm_pred = np.dot(model.A_, model.B_.T) + model.glob_mean_ \n",
    "    rmses.append(mse(rm_actual.values[rm_actual > 0], rm_pred[rm_actual > 0])**0.5)\n",
    "    mapes.append(mape(rm_actual.values[rm_actual > 0], rm_pred[rm_actual > 0]))\n",
    "    i += 1"
   ]
  },
  {
   "cell_type": "code",
   "execution_count": 1210,
   "id": "9eb55cb5",
   "metadata": {},
   "outputs": [
    {
     "data": {
      "text/plain": [
       "(1.1171012882882008, 0.38131661121098875)"
      ]
     },
     "execution_count": 1210,
     "metadata": {},
     "output_type": "execute_result"
    }
   ],
   "source": [
    "# Best scores\n",
    "min(rmses), min(mapes)"
   ]
  },
  {
   "cell_type": "code",
   "execution_count": 1211,
   "id": "292570b2",
   "metadata": {
    "scrolled": true
   },
   "outputs": [
    {
     "data": {
      "text/plain": [
       "Collective matrix factorization model\n",
       "(explicit-feedback variant)\n"
      ]
     },
     "execution_count": 1211,
     "metadata": {},
     "output_type": "execute_result"
    }
   ],
   "source": [
    "### Best value of lambda for 4 features embedding was found to be 100\n",
    "### Retraining the model to get the actual embedding matrices\n",
    "best_model = CMF(method=\"lbfgs\", k=4, lambda_= 100, verbose=False)\n",
    "best_model.fit(rm_raw)"
   ]
  },
  {
   "cell_type": "code",
   "execution_count": 1212,
   "id": "d465c560",
   "metadata": {},
   "outputs": [
    {
     "data": {
      "text/plain": [
       "((6040, 4), (3706, 4))"
      ]
     },
     "execution_count": 1212,
     "metadata": {},
     "output_type": "execute_result"
    }
   ],
   "source": [
    "best_model.A_.shape, best_model.B_.shape\n",
    "# A is user embedding matrix, B is movie embedding matrix."
   ]
  },
  {
   "cell_type": "code",
   "execution_count": 1218,
   "id": "79a14098",
   "metadata": {},
   "outputs": [
    {
     "data": {
      "text/html": [
       "<div>\n",
       "<style scoped>\n",
       "    .dataframe tbody tr th:only-of-type {\n",
       "        vertical-align: middle;\n",
       "    }\n",
       "\n",
       "    .dataframe tbody tr th {\n",
       "        vertical-align: top;\n",
       "    }\n",
       "\n",
       "    .dataframe thead th {\n",
       "        text-align: right;\n",
       "    }\n",
       "</style>\n",
       "<table border=\"1\" class=\"dataframe\">\n",
       "  <thead>\n",
       "    <tr style=\"text-align: right;\">\n",
       "      <th></th>\n",
       "      <th>Title</th>\n",
       "      <th>Avg_user_rating</th>\n",
       "      <th>action</th>\n",
       "      <th>adventure</th>\n",
       "      <th>animation</th>\n",
       "      <th>children</th>\n",
       "      <th>comedy</th>\n",
       "      <th>crime</th>\n",
       "      <th>documentary</th>\n",
       "      <th>drama</th>\n",
       "      <th>...</th>\n",
       "      <th>horror</th>\n",
       "      <th>musical</th>\n",
       "      <th>mystery</th>\n",
       "      <th>romance</th>\n",
       "      <th>sci-fi</th>\n",
       "      <th>thriller</th>\n",
       "      <th>war</th>\n",
       "      <th>western</th>\n",
       "      <th>Others</th>\n",
       "      <th>Release_Yr</th>\n",
       "    </tr>\n",
       "    <tr>\n",
       "      <th>Movie_ID</th>\n",
       "      <th></th>\n",
       "      <th></th>\n",
       "      <th></th>\n",
       "      <th></th>\n",
       "      <th></th>\n",
       "      <th></th>\n",
       "      <th></th>\n",
       "      <th></th>\n",
       "      <th></th>\n",
       "      <th></th>\n",
       "      <th></th>\n",
       "      <th></th>\n",
       "      <th></th>\n",
       "      <th></th>\n",
       "      <th></th>\n",
       "      <th></th>\n",
       "      <th></th>\n",
       "      <th></th>\n",
       "      <th></th>\n",
       "      <th></th>\n",
       "      <th></th>\n",
       "    </tr>\n",
       "  </thead>\n",
       "  <tbody>\n",
       "    <tr>\n",
       "      <th>1.0</th>\n",
       "      <td>Toy Story (1995)</td>\n",
       "      <td>4.146846</td>\n",
       "      <td>0</td>\n",
       "      <td>0</td>\n",
       "      <td>1</td>\n",
       "      <td>1</td>\n",
       "      <td>1</td>\n",
       "      <td>0</td>\n",
       "      <td>0</td>\n",
       "      <td>0</td>\n",
       "      <td>...</td>\n",
       "      <td>0</td>\n",
       "      <td>0</td>\n",
       "      <td>0</td>\n",
       "      <td>0</td>\n",
       "      <td>0</td>\n",
       "      <td>0</td>\n",
       "      <td>0</td>\n",
       "      <td>0</td>\n",
       "      <td>0</td>\n",
       "      <td>1995</td>\n",
       "    </tr>\n",
       "    <tr>\n",
       "      <th>2.0</th>\n",
       "      <td>Jumanji (1995)</td>\n",
       "      <td>3.201141</td>\n",
       "      <td>0</td>\n",
       "      <td>1</td>\n",
       "      <td>0</td>\n",
       "      <td>1</td>\n",
       "      <td>0</td>\n",
       "      <td>0</td>\n",
       "      <td>0</td>\n",
       "      <td>0</td>\n",
       "      <td>...</td>\n",
       "      <td>0</td>\n",
       "      <td>0</td>\n",
       "      <td>0</td>\n",
       "      <td>0</td>\n",
       "      <td>0</td>\n",
       "      <td>0</td>\n",
       "      <td>0</td>\n",
       "      <td>0</td>\n",
       "      <td>0</td>\n",
       "      <td>1995</td>\n",
       "    </tr>\n",
       "    <tr>\n",
       "      <th>3.0</th>\n",
       "      <td>Grumpier Old Men (1995)</td>\n",
       "      <td>3.016736</td>\n",
       "      <td>0</td>\n",
       "      <td>0</td>\n",
       "      <td>0</td>\n",
       "      <td>0</td>\n",
       "      <td>1</td>\n",
       "      <td>0</td>\n",
       "      <td>0</td>\n",
       "      <td>0</td>\n",
       "      <td>...</td>\n",
       "      <td>0</td>\n",
       "      <td>0</td>\n",
       "      <td>0</td>\n",
       "      <td>1</td>\n",
       "      <td>0</td>\n",
       "      <td>0</td>\n",
       "      <td>0</td>\n",
       "      <td>0</td>\n",
       "      <td>0</td>\n",
       "      <td>1995</td>\n",
       "    </tr>\n",
       "  </tbody>\n",
       "</table>\n",
       "<p>3 rows × 22 columns</p>\n",
       "</div>"
      ],
      "text/plain": [
       "                            Title  Avg_user_rating  action  adventure  \\\n",
       "Movie_ID                                                                \n",
       "1.0              Toy Story (1995)         4.146846       0          0   \n",
       "2.0                Jumanji (1995)         3.201141       0          1   \n",
       "3.0       Grumpier Old Men (1995)         3.016736       0          0   \n",
       "\n",
       "          animation  children  comedy  crime  documentary  drama  ...  horror  \\\n",
       "Movie_ID                                                          ...           \n",
       "1.0               1         1       1      0            0      0  ...       0   \n",
       "2.0               0         1       0      0            0      0  ...       0   \n",
       "3.0               0         0       1      0            0      0  ...       0   \n",
       "\n",
       "          musical  mystery  romance  sci-fi  thriller  war  western  Others  \\\n",
       "Movie_ID                                                                      \n",
       "1.0             0        0        0       0         0    0        0       0   \n",
       "2.0             0        0        0       0         0    0        0       0   \n",
       "3.0             0        0        1       0         0    0        0       0   \n",
       "\n",
       "          Release_Yr  \n",
       "Movie_ID              \n",
       "1.0             1995  \n",
       "2.0             1995  \n",
       "3.0             1995  \n",
       "\n",
       "[3 rows x 22 columns]"
      ]
     },
     "execution_count": 1218,
     "metadata": {},
     "output_type": "execute_result"
    }
   ],
   "source": [
    "# Inserting movie_ids again and resetting the index to movie_ids\n",
    "movies.insert(loc=0, column='Movie_ID', value=movie_ids.values)\n",
    "movies = movies.reset_index().set_index('Movie_ID')\n",
    "movies.head(3)"
   ]
  },
  {
   "cell_type": "code",
   "execution_count": 1228,
   "id": "59ef7704",
   "metadata": {},
   "outputs": [
    {
     "data": {
      "text/html": [
       "<div>\n",
       "<style scoped>\n",
       "    .dataframe tbody tr th:only-of-type {\n",
       "        vertical-align: middle;\n",
       "    }\n",
       "\n",
       "    .dataframe tbody tr th {\n",
       "        vertical-align: top;\n",
       "    }\n",
       "\n",
       "    .dataframe thead th {\n",
       "        text-align: right;\n",
       "    }\n",
       "</style>\n",
       "<table border=\"1\" class=\"dataframe\">\n",
       "  <thead>\n",
       "    <tr style=\"text-align: right;\">\n",
       "      <th></th>\n",
       "      <th>Title</th>\n",
       "      <th>Avg_user_rating</th>\n",
       "      <th>Release_Yr</th>\n",
       "    </tr>\n",
       "    <tr>\n",
       "      <th>Movie_ID</th>\n",
       "      <th></th>\n",
       "      <th></th>\n",
       "      <th></th>\n",
       "    </tr>\n",
       "  </thead>\n",
       "  <tbody>\n",
       "    <tr>\n",
       "      <th>318.0</th>\n",
       "      <td>Shawshank Redemption, The (1994)</td>\n",
       "      <td>4.554558</td>\n",
       "      <td>1994</td>\n",
       "    </tr>\n",
       "    <tr>\n",
       "      <th>858.0</th>\n",
       "      <td>Godfather, The (1972)</td>\n",
       "      <td>4.524966</td>\n",
       "      <td>1972</td>\n",
       "    </tr>\n",
       "    <tr>\n",
       "      <th>50.0</th>\n",
       "      <td>Usual Suspects, The (1995)</td>\n",
       "      <td>4.517106</td>\n",
       "      <td>1995</td>\n",
       "    </tr>\n",
       "    <tr>\n",
       "      <th>527.0</th>\n",
       "      <td>Schindler's List (1993)</td>\n",
       "      <td>4.510417</td>\n",
       "      <td>1993</td>\n",
       "    </tr>\n",
       "    <tr>\n",
       "      <th>1198.0</th>\n",
       "      <td>Raiders of the Lost Ark (1981)</td>\n",
       "      <td>4.477725</td>\n",
       "      <td>1981</td>\n",
       "    </tr>\n",
       "    <tr>\n",
       "      <th>2019.0</th>\n",
       "      <td>Seven Samurai (The Magnificent Seven) (Shichin...</td>\n",
       "      <td>4.560510</td>\n",
       "      <td>1996</td>\n",
       "    </tr>\n",
       "    <tr>\n",
       "      <th>1148.0</th>\n",
       "      <td>Wrong Trousers, The (1993)</td>\n",
       "      <td>4.507937</td>\n",
       "      <td>1993</td>\n",
       "    </tr>\n",
       "    <tr>\n",
       "      <th>260.0</th>\n",
       "      <td>Star Wars: Episode IV - A New Hope (1977)</td>\n",
       "      <td>4.453694</td>\n",
       "      <td>1977</td>\n",
       "    </tr>\n",
       "    <tr>\n",
       "      <th>904.0</th>\n",
       "      <td>Rear Window (1954)</td>\n",
       "      <td>4.476190</td>\n",
       "      <td>1954</td>\n",
       "    </tr>\n",
       "    <tr>\n",
       "      <th>750.0</th>\n",
       "      <td>Dr. Strangelove or: How I Learned to Stop Worr...</td>\n",
       "      <td>4.449890</td>\n",
       "      <td>1996</td>\n",
       "    </tr>\n",
       "  </tbody>\n",
       "</table>\n",
       "</div>"
      ],
      "text/plain": [
       "                                                      Title  Avg_user_rating  \\\n",
       "Movie_ID                                                                       \n",
       "318.0                      Shawshank Redemption, The (1994)         4.554558   \n",
       "858.0                                 Godfather, The (1972)         4.524966   \n",
       "50.0                             Usual Suspects, The (1995)         4.517106   \n",
       "527.0                               Schindler's List (1993)         4.510417   \n",
       "1198.0                       Raiders of the Lost Ark (1981)         4.477725   \n",
       "2019.0    Seven Samurai (The Magnificent Seven) (Shichin...         4.560510   \n",
       "1148.0                           Wrong Trousers, The (1993)         4.507937   \n",
       "260.0             Star Wars: Episode IV - A New Hope (1977)         4.453694   \n",
       "904.0                                    Rear Window (1954)         4.476190   \n",
       "750.0     Dr. Strangelove or: How I Learned to Stop Worr...         4.449890   \n",
       "\n",
       "          Release_Yr  \n",
       "Movie_ID              \n",
       "318.0           1994  \n",
       "858.0           1972  \n",
       "50.0            1995  \n",
       "527.0           1993  \n",
       "1198.0          1981  \n",
       "2019.0          1996  \n",
       "1148.0          1993  \n",
       "260.0           1977  \n",
       "904.0           1954  \n",
       "750.0           1996  "
      ]
     },
     "execution_count": 1228,
     "metadata": {},
     "output_type": "execute_result"
    }
   ],
   "source": [
    "# We can use the topN attribute to recommend movies which a user might like. \n",
    "top_items = model.topN(user=1, n=10)\n",
    "movies.loc[top_items,:][['Title', 'Avg_user_rating', 'Release_Yr']]"
   ]
  },
  {
   "cell_type": "markdown",
   "id": "b060d990",
   "metadata": {},
   "source": [
    "### Item-Item similarity using embedded features"
   ]
  },
  {
   "cell_type": "code",
   "execution_count": 1229,
   "id": "648fc4b5",
   "metadata": {},
   "outputs": [
    {
     "data": {
      "text/html": [
       "<div>\n",
       "<style scoped>\n",
       "    .dataframe tbody tr th:only-of-type {\n",
       "        vertical-align: middle;\n",
       "    }\n",
       "\n",
       "    .dataframe tbody tr th {\n",
       "        vertical-align: top;\n",
       "    }\n",
       "\n",
       "    .dataframe thead th {\n",
       "        text-align: right;\n",
       "    }\n",
       "</style>\n",
       "<table border=\"1\" class=\"dataframe\">\n",
       "  <thead>\n",
       "    <tr style=\"text-align: right;\">\n",
       "      <th></th>\n",
       "      <th>0</th>\n",
       "      <th>1</th>\n",
       "      <th>2</th>\n",
       "      <th>3</th>\n",
       "    </tr>\n",
       "  </thead>\n",
       "  <tbody>\n",
       "    <tr>\n",
       "      <th>1193</th>\n",
       "      <td>-0.000707</td>\n",
       "      <td>0.000890</td>\n",
       "      <td>0.000681</td>\n",
       "      <td>0.000802</td>\n",
       "    </tr>\n",
       "    <tr>\n",
       "      <th>661</th>\n",
       "      <td>-0.000245</td>\n",
       "      <td>0.000275</td>\n",
       "      <td>0.000477</td>\n",
       "      <td>0.000067</td>\n",
       "    </tr>\n",
       "    <tr>\n",
       "      <th>914</th>\n",
       "      <td>0.000035</td>\n",
       "      <td>-0.000316</td>\n",
       "      <td>0.000162</td>\n",
       "      <td>0.000020</td>\n",
       "    </tr>\n",
       "  </tbody>\n",
       "</table>\n",
       "</div>"
      ],
      "text/plain": [
       "             0         1         2         3\n",
       "1193 -0.000707  0.000890  0.000681  0.000802\n",
       "661  -0.000245  0.000275  0.000477  0.000067\n",
       "914   0.000035 -0.000316  0.000162  0.000020"
      ]
     },
     "execution_count": 1229,
     "metadata": {},
     "output_type": "execute_result"
    }
   ],
   "source": [
    "movies_embedd = pd.DataFrame(best_model.B_, index=best_model.item_mapping_)\n",
    "movies_embedd.head(3)"
   ]
  },
  {
   "cell_type": "code",
   "execution_count": 1230,
   "id": "79195626",
   "metadata": {},
   "outputs": [
    {
     "data": {
      "text/html": [
       "<div>\n",
       "<style scoped>\n",
       "    .dataframe tbody tr th:only-of-type {\n",
       "        vertical-align: middle;\n",
       "    }\n",
       "\n",
       "    .dataframe tbody tr th {\n",
       "        vertical-align: top;\n",
       "    }\n",
       "\n",
       "    .dataframe thead th {\n",
       "        text-align: right;\n",
       "    }\n",
       "</style>\n",
       "<table border=\"1\" class=\"dataframe\">\n",
       "  <thead>\n",
       "    <tr style=\"text-align: right;\">\n",
       "      <th></th>\n",
       "      <th>0</th>\n",
       "      <th>1</th>\n",
       "      <th>2</th>\n",
       "      <th>3</th>\n",
       "    </tr>\n",
       "    <tr>\n",
       "      <th>Title</th>\n",
       "      <th></th>\n",
       "      <th></th>\n",
       "      <th></th>\n",
       "      <th></th>\n",
       "    </tr>\n",
       "  </thead>\n",
       "  <tbody>\n",
       "    <tr>\n",
       "      <th>Toy Story (1995)</th>\n",
       "      <td>-0.000109</td>\n",
       "      <td>-0.000643</td>\n",
       "      <td>0.000946</td>\n",
       "      <td>-0.000501</td>\n",
       "    </tr>\n",
       "    <tr>\n",
       "      <th>Jumanji (1995)</th>\n",
       "      <td>0.000362</td>\n",
       "      <td>-0.000538</td>\n",
       "      <td>-0.000395</td>\n",
       "      <td>-0.000022</td>\n",
       "    </tr>\n",
       "    <tr>\n",
       "      <th>Grumpier Old Men (1995)</th>\n",
       "      <td>-0.000171</td>\n",
       "      <td>-0.000387</td>\n",
       "      <td>-0.000664</td>\n",
       "      <td>-0.000164</td>\n",
       "    </tr>\n",
       "  </tbody>\n",
       "</table>\n",
       "</div>"
      ],
      "text/plain": [
       "                                0         1         2         3\n",
       "Title                                                          \n",
       "Toy Story (1995)        -0.000109 -0.000643  0.000946 -0.000501\n",
       "Jumanji (1995)           0.000362 -0.000538 -0.000395 -0.000022\n",
       "Grumpier Old Men (1995) -0.000171 -0.000387 -0.000664 -0.000164"
      ]
     },
     "execution_count": 1230,
     "metadata": {},
     "output_type": "execute_result"
    }
   ],
   "source": [
    "movies_with_embedd = movies.join(movies_embedd)[['Title', 0, 1, 2, 3]].reset_index(drop=True).set_index('Title')\n",
    "movies_with_embedd.head(3)"
   ]
  },
  {
   "cell_type": "code",
   "execution_count": 1231,
   "id": "823ed992",
   "metadata": {},
   "outputs": [
    {
     "data": {
      "text/html": [
       "<div>\n",
       "<style scoped>\n",
       "    .dataframe tbody tr th:only-of-type {\n",
       "        vertical-align: middle;\n",
       "    }\n",
       "\n",
       "    .dataframe tbody tr th {\n",
       "        vertical-align: top;\n",
       "    }\n",
       "\n",
       "    .dataframe thead th {\n",
       "        text-align: right;\n",
       "    }\n",
       "</style>\n",
       "<table border=\"1\" class=\"dataframe\">\n",
       "  <thead>\n",
       "    <tr style=\"text-align: right;\">\n",
       "      <th></th>\n",
       "      <th>count</th>\n",
       "      <th>mean</th>\n",
       "      <th>std</th>\n",
       "      <th>min</th>\n",
       "      <th>25%</th>\n",
       "      <th>50%</th>\n",
       "      <th>75%</th>\n",
       "      <th>max</th>\n",
       "    </tr>\n",
       "  </thead>\n",
       "  <tbody>\n",
       "    <tr>\n",
       "      <th>0</th>\n",
       "      <td>3706.0</td>\n",
       "      <td>0.000008</td>\n",
       "      <td>0.000197</td>\n",
       "      <td>-0.002821</td>\n",
       "      <td>-0.000023</td>\n",
       "      <td>0.000015</td>\n",
       "      <td>0.000080</td>\n",
       "      <td>0.000902</td>\n",
       "    </tr>\n",
       "    <tr>\n",
       "      <th>1</th>\n",
       "      <td>3706.0</td>\n",
       "      <td>-0.000002</td>\n",
       "      <td>0.000200</td>\n",
       "      <td>-0.001492</td>\n",
       "      <td>-0.000061</td>\n",
       "      <td>-0.000002</td>\n",
       "      <td>0.000043</td>\n",
       "      <td>0.001606</td>\n",
       "    </tr>\n",
       "    <tr>\n",
       "      <th>2</th>\n",
       "      <td>3706.0</td>\n",
       "      <td>-0.000015</td>\n",
       "      <td>0.000319</td>\n",
       "      <td>-0.003068</td>\n",
       "      <td>-0.000082</td>\n",
       "      <td>0.000002</td>\n",
       "      <td>0.000078</td>\n",
       "      <td>0.002094</td>\n",
       "    </tr>\n",
       "    <tr>\n",
       "      <th>3</th>\n",
       "      <td>3706.0</td>\n",
       "      <td>0.000004</td>\n",
       "      <td>0.000172</td>\n",
       "      <td>-0.001571</td>\n",
       "      <td>-0.000032</td>\n",
       "      <td>0.000004</td>\n",
       "      <td>0.000054</td>\n",
       "      <td>0.001390</td>\n",
       "    </tr>\n",
       "  </tbody>\n",
       "</table>\n",
       "</div>"
      ],
      "text/plain": [
       "    count      mean       std       min       25%       50%       75%  \\\n",
       "0  3706.0  0.000008  0.000197 -0.002821 -0.000023  0.000015  0.000080   \n",
       "1  3706.0 -0.000002  0.000200 -0.001492 -0.000061 -0.000002  0.000043   \n",
       "2  3706.0 -0.000015  0.000319 -0.003068 -0.000082  0.000002  0.000078   \n",
       "3  3706.0  0.000004  0.000172 -0.001571 -0.000032  0.000004  0.000054   \n",
       "\n",
       "        max  \n",
       "0  0.000902  \n",
       "1  0.001606  \n",
       "2  0.002094  \n",
       "3  0.001390  "
      ]
     },
     "execution_count": 1231,
     "metadata": {},
     "output_type": "execute_result"
    }
   ],
   "source": [
    "# The ranges of all features are almost same and between [-1,1]. Hence, there is no need to scale\n",
    "movies_with_embedd.describe().T"
   ]
  },
  {
   "cell_type": "code",
   "execution_count": 1232,
   "id": "47a25642",
   "metadata": {},
   "outputs": [],
   "source": [
    "movies_with_embedd_similarities = pdist(movies_with_embedd, cosine_similarity)\n",
    "movies_with_embedd_similarity_matrix = pd.DataFrame(squareform(movies_with_embedd_similarities), \n",
    "                                                    columns=movies_with_embedd.index, \n",
    "                                                    index=movies_with_embedd.index)"
   ]
  },
  {
   "cell_type": "code",
   "execution_count": 1233,
   "id": "d15082e8",
   "metadata": {
    "scrolled": false
   },
   "outputs": [
    {
     "data": {
      "text/html": [
       "<div>\n",
       "<style scoped>\n",
       "    .dataframe tbody tr th:only-of-type {\n",
       "        vertical-align: middle;\n",
       "    }\n",
       "\n",
       "    .dataframe tbody tr th {\n",
       "        vertical-align: top;\n",
       "    }\n",
       "\n",
       "    .dataframe thead th {\n",
       "        text-align: right;\n",
       "    }\n",
       "</style>\n",
       "<table border=\"1\" class=\"dataframe\">\n",
       "  <thead>\n",
       "    <tr style=\"text-align: right;\">\n",
       "      <th>Title</th>\n",
       "      <th>Toy Story (1995)</th>\n",
       "      <th>Jumanji (1995)</th>\n",
       "      <th>Grumpier Old Men (1995)</th>\n",
       "      <th>Waiting to Exhale (1995)</th>\n",
       "      <th>Father of the Bride Part II (1995)</th>\n",
       "    </tr>\n",
       "    <tr>\n",
       "      <th>Title</th>\n",
       "      <th></th>\n",
       "      <th></th>\n",
       "      <th></th>\n",
       "      <th></th>\n",
       "      <th></th>\n",
       "    </tr>\n",
       "  </thead>\n",
       "  <tbody>\n",
       "    <tr>\n",
       "      <th>Toy Story (1995)</th>\n",
       "      <td>0.000000</td>\n",
       "      <td>-0.058666</td>\n",
       "      <td>-0.276053</td>\n",
       "      <td>0.149246</td>\n",
       "      <td>-0.284623</td>\n",
       "    </tr>\n",
       "    <tr>\n",
       "      <th>Jumanji (1995)</th>\n",
       "      <td>-0.058666</td>\n",
       "      <td>0.000000</td>\n",
       "      <td>0.674580</td>\n",
       "      <td>-0.102948</td>\n",
       "      <td>0.893261</td>\n",
       "    </tr>\n",
       "    <tr>\n",
       "      <th>Grumpier Old Men (1995)</th>\n",
       "      <td>-0.276053</td>\n",
       "      <td>0.674580</td>\n",
       "      <td>0.000000</td>\n",
       "      <td>0.011664</td>\n",
       "      <td>0.926366</td>\n",
       "    </tr>\n",
       "    <tr>\n",
       "      <th>Waiting to Exhale (1995)</th>\n",
       "      <td>0.149246</td>\n",
       "      <td>-0.102948</td>\n",
       "      <td>0.011664</td>\n",
       "      <td>0.000000</td>\n",
       "      <td>-0.045587</td>\n",
       "    </tr>\n",
       "    <tr>\n",
       "      <th>Father of the Bride Part II (1995)</th>\n",
       "      <td>-0.284623</td>\n",
       "      <td>0.893261</td>\n",
       "      <td>0.926366</td>\n",
       "      <td>-0.045587</td>\n",
       "      <td>0.000000</td>\n",
       "    </tr>\n",
       "  </tbody>\n",
       "</table>\n",
       "</div>"
      ],
      "text/plain": [
       "Title                               Toy Story (1995)  Jumanji (1995)  \\\n",
       "Title                                                                  \n",
       "Toy Story (1995)                            0.000000       -0.058666   \n",
       "Jumanji (1995)                             -0.058666        0.000000   \n",
       "Grumpier Old Men (1995)                    -0.276053        0.674580   \n",
       "Waiting to Exhale (1995)                    0.149246       -0.102948   \n",
       "Father of the Bride Part II (1995)         -0.284623        0.893261   \n",
       "\n",
       "Title                               Grumpier Old Men (1995)  \\\n",
       "Title                                                         \n",
       "Toy Story (1995)                                  -0.276053   \n",
       "Jumanji (1995)                                     0.674580   \n",
       "Grumpier Old Men (1995)                            0.000000   \n",
       "Waiting to Exhale (1995)                           0.011664   \n",
       "Father of the Bride Part II (1995)                 0.926366   \n",
       "\n",
       "Title                               Waiting to Exhale (1995)  \\\n",
       "Title                                                          \n",
       "Toy Story (1995)                                    0.149246   \n",
       "Jumanji (1995)                                     -0.102948   \n",
       "Grumpier Old Men (1995)                             0.011664   \n",
       "Waiting to Exhale (1995)                            0.000000   \n",
       "Father of the Bride Part II (1995)                 -0.045587   \n",
       "\n",
       "Title                               Father of the Bride Part II (1995)  \n",
       "Title                                                                   \n",
       "Toy Story (1995)                                             -0.284623  \n",
       "Jumanji (1995)                                                0.893261  \n",
       "Grumpier Old Men (1995)                                       0.926366  \n",
       "Waiting to Exhale (1995)                                     -0.045587  \n",
       "Father of the Bride Part II (1995)                            0.000000  "
      ]
     },
     "execution_count": 1233,
     "metadata": {},
     "output_type": "execute_result"
    }
   ],
   "source": [
    "movies_with_embedd_similarity_matrix.iloc[0:5,0:5]"
   ]
  },
  {
   "cell_type": "code",
   "execution_count": 1234,
   "id": "255c6871",
   "metadata": {},
   "outputs": [],
   "source": [
    "def similar_movies_with_embedd(movie):\n",
    "    return movies_with_embedd_similarity_matrix[movie].sort_values(ascending=False)[:5].index"
   ]
  },
  {
   "cell_type": "code",
   "execution_count": 1235,
   "id": "1d7b67e4",
   "metadata": {
    "scrolled": true
   },
   "outputs": [
    {
     "data": {
      "text/plain": [
       "Index(['Small Faces (1995)', 'How to Be a Player (1997)', 'Disclosure (1994)',\n",
       "       'Bogus (1996)', 'Rollercoaster (1977)'],\n",
       "      dtype='object', name='Title')"
      ]
     },
     "execution_count": 1235,
     "metadata": {},
     "output_type": "execute_result"
    }
   ],
   "source": [
    "similar_movies_with_embedd('Jumanji (1995)')"
   ]
  },
  {
   "cell_type": "code",
   "execution_count": 1236,
   "id": "df94dbaf",
   "metadata": {},
   "outputs": [
    {
     "data": {
      "text/plain": [
       "Index(['Indian in the Cupboard, The (1995)', 'Kids of the Round Table (1995)',\n",
       "       'NeverEnding Story III, The (1994)', 'Star Kid (1997)',\n",
       "       'Labyrinth (1986)'],\n",
       "      dtype='object', name='Title')"
      ]
     },
     "execution_count": 1236,
     "metadata": {},
     "output_type": "execute_result"
    }
   ],
   "source": [
    "similar_movies('Jumanji (1995)')"
   ]
  },
  {
   "cell_type": "markdown",
   "id": "39d729fd",
   "metadata": {},
   "source": [
    "##### Using embeddings, the function recommended movies which are completely different from what the recommendations were using actual features.\n",
    "##### But after research using external sources (Google, IMDB etc.), eventhough recommendations of both these fuctions were comparitively different to one another, all 10 recommendations were quite similar to the actual movie. "
   ]
  },
  {
   "cell_type": "markdown",
   "id": "5ea13ad4",
   "metadata": {},
   "source": [
    "### User-User similarity using embedded features"
   ]
  },
  {
   "cell_type": "code",
   "execution_count": 1237,
   "id": "28357015",
   "metadata": {},
   "outputs": [
    {
     "data": {
      "text/html": [
       "<div>\n",
       "<style scoped>\n",
       "    .dataframe tbody tr th:only-of-type {\n",
       "        vertical-align: middle;\n",
       "    }\n",
       "\n",
       "    .dataframe tbody tr th {\n",
       "        vertical-align: top;\n",
       "    }\n",
       "\n",
       "    .dataframe thead th {\n",
       "        text-align: right;\n",
       "    }\n",
       "</style>\n",
       "<table border=\"1\" class=\"dataframe\">\n",
       "  <thead>\n",
       "    <tr style=\"text-align: right;\">\n",
       "      <th></th>\n",
       "      <th>0</th>\n",
       "      <th>1</th>\n",
       "      <th>2</th>\n",
       "      <th>3</th>\n",
       "    </tr>\n",
       "  </thead>\n",
       "  <tbody>\n",
       "    <tr>\n",
       "      <th>1</th>\n",
       "      <td>-0.000042</td>\n",
       "      <td>-0.000064</td>\n",
       "      <td>0.000017</td>\n",
       "      <td>-0.000003</td>\n",
       "    </tr>\n",
       "    <tr>\n",
       "      <th>2</th>\n",
       "      <td>-0.000085</td>\n",
       "      <td>-0.000018</td>\n",
       "      <td>-0.000102</td>\n",
       "      <td>-0.000048</td>\n",
       "    </tr>\n",
       "    <tr>\n",
       "      <th>3</th>\n",
       "      <td>-0.000075</td>\n",
       "      <td>0.000021</td>\n",
       "      <td>-0.000113</td>\n",
       "      <td>0.000048</td>\n",
       "    </tr>\n",
       "  </tbody>\n",
       "</table>\n",
       "</div>"
      ],
      "text/plain": [
       "          0         1         2         3\n",
       "1 -0.000042 -0.000064  0.000017 -0.000003\n",
       "2 -0.000085 -0.000018 -0.000102 -0.000048\n",
       "3 -0.000075  0.000021 -0.000113  0.000048"
      ]
     },
     "execution_count": 1237,
     "metadata": {},
     "output_type": "execute_result"
    }
   ],
   "source": [
    "users_embedd = pd.DataFrame(best_model.A_, index=best_model.user_mapping_)\n",
    "users_embedd.head(3)"
   ]
  },
  {
   "cell_type": "code",
   "execution_count": 1238,
   "id": "014c459e",
   "metadata": {},
   "outputs": [],
   "source": [
    "users_with_embedd_similarities = pdist(users_embedd, cosine_similarity)\n",
    "users_with_embedd_similarity_matrix = pd.DataFrame(squareform(users_with_embedd_similarities), \n",
    "                                                    columns=users_embedd.index, \n",
    "                                                    index=users_embedd.index)"
   ]
  },
  {
   "cell_type": "code",
   "execution_count": 1239,
   "id": "52b18809",
   "metadata": {
    "scrolled": false
   },
   "outputs": [
    {
     "data": {
      "text/html": [
       "<div>\n",
       "<style scoped>\n",
       "    .dataframe tbody tr th:only-of-type {\n",
       "        vertical-align: middle;\n",
       "    }\n",
       "\n",
       "    .dataframe tbody tr th {\n",
       "        vertical-align: top;\n",
       "    }\n",
       "\n",
       "    .dataframe thead th {\n",
       "        text-align: right;\n",
       "    }\n",
       "</style>\n",
       "<table border=\"1\" class=\"dataframe\">\n",
       "  <thead>\n",
       "    <tr style=\"text-align: right;\">\n",
       "      <th></th>\n",
       "      <th>1</th>\n",
       "      <th>2</th>\n",
       "      <th>3</th>\n",
       "      <th>4</th>\n",
       "      <th>5</th>\n",
       "    </tr>\n",
       "  </thead>\n",
       "  <tbody>\n",
       "    <tr>\n",
       "      <th>1</th>\n",
       "      <td>0.000000</td>\n",
       "      <td>0.275734</td>\n",
       "      <td>-0.023756</td>\n",
       "      <td>0.399014</td>\n",
       "      <td>-0.299630</td>\n",
       "    </tr>\n",
       "    <tr>\n",
       "      <th>2</th>\n",
       "      <td>0.275734</td>\n",
       "      <td>0.000000</td>\n",
       "      <td>0.734592</td>\n",
       "      <td>-0.751902</td>\n",
       "      <td>-0.964789</td>\n",
       "    </tr>\n",
       "    <tr>\n",
       "      <th>3</th>\n",
       "      <td>-0.023756</td>\n",
       "      <td>0.734592</td>\n",
       "      <td>0.000000</td>\n",
       "      <td>-0.589639</td>\n",
       "      <td>-0.574078</td>\n",
       "    </tr>\n",
       "    <tr>\n",
       "      <th>4</th>\n",
       "      <td>0.399014</td>\n",
       "      <td>-0.751902</td>\n",
       "      <td>-0.589639</td>\n",
       "      <td>0.000000</td>\n",
       "      <td>0.724803</td>\n",
       "    </tr>\n",
       "    <tr>\n",
       "      <th>5</th>\n",
       "      <td>-0.299630</td>\n",
       "      <td>-0.964789</td>\n",
       "      <td>-0.574078</td>\n",
       "      <td>0.724803</td>\n",
       "      <td>0.000000</td>\n",
       "    </tr>\n",
       "  </tbody>\n",
       "</table>\n",
       "</div>"
      ],
      "text/plain": [
       "          1         2         3         4         5\n",
       "1  0.000000  0.275734 -0.023756  0.399014 -0.299630\n",
       "2  0.275734  0.000000  0.734592 -0.751902 -0.964789\n",
       "3 -0.023756  0.734592  0.000000 -0.589639 -0.574078\n",
       "4  0.399014 -0.751902 -0.589639  0.000000  0.724803\n",
       "5 -0.299630 -0.964789 -0.574078  0.724803  0.000000"
      ]
     },
     "execution_count": 1239,
     "metadata": {},
     "output_type": "execute_result"
    }
   ],
   "source": [
    "users_with_embedd_similarity_matrix.iloc[0:5,0:5]"
   ]
  },
  {
   "cell_type": "code",
   "execution_count": 1240,
   "id": "d0b33852",
   "metadata": {},
   "outputs": [],
   "source": [
    "def similar_users_with_embedd(user):\n",
    "    return users_with_embedd_similarity_matrix[user].sort_values(ascending=False)[:5].index"
   ]
  },
  {
   "cell_type": "code",
   "execution_count": 1241,
   "id": "2cea8157",
   "metadata": {},
   "outputs": [
    {
     "data": {
      "text/plain": [
       "Int64Index([5415, 5034, 1306, 2652, 4637], dtype='int64')"
      ]
     },
     "execution_count": 1241,
     "metadata": {},
     "output_type": "execute_result"
    }
   ],
   "source": [
    "similar_users_with_embedd(1) # Similarity function with embedded features"
   ]
  },
  {
   "cell_type": "code",
   "execution_count": 1242,
   "id": "98490967",
   "metadata": {},
   "outputs": [
    {
     "data": {
      "text/plain": [
       "Int64Index([86, 5989, 5525, 5756, 3667], dtype='int64', name='UserID')"
      ]
     },
     "execution_count": 1242,
     "metadata": {},
     "output_type": "execute_result"
    }
   ],
   "source": [
    "similar_users(1) # Similarity function with original features"
   ]
  },
  {
   "cell_type": "code",
   "execution_count": 1243,
   "id": "82128c52",
   "metadata": {},
   "outputs": [
    {
     "data": {
      "text/plain": [
       "(Gender                     1\n",
       " Age                        0\n",
       " Occupation      K-12 student\n",
       " Avg_rating          4.188679\n",
       " Avg_watch_hr        3.792453\n",
       " Name: 1, dtype: object,\n",
       " Gender                     1\n",
       " Age                        0\n",
       " Occupation      K-12 student\n",
       " Avg_rating            4.3125\n",
       " Avg_watch_hr        3.145833\n",
       " Name: 86, dtype: object)"
      ]
     },
     "execution_count": 1243,
     "metadata": {},
     "output_type": "execute_result"
    }
   ],
   "source": [
    "# Almost similar users. \n",
    "users.iloc[0], users.iloc[85]"
   ]
  },
  {
   "cell_type": "code",
   "execution_count": 1244,
   "id": "9b30cfbe",
   "metadata": {},
   "outputs": [
    {
     "data": {
      "text/plain": [
       "(Gender                     1\n",
       " Age                        0\n",
       " Occupation      K-12 student\n",
       " Avg_rating          4.188679\n",
       " Avg_watch_hr        3.792453\n",
       " Name: 1, dtype: object,\n",
       " Gender                  1\n",
       " Age                     2\n",
       " Occupation      scientist\n",
       " Avg_rating       3.957447\n",
       " Avg_watch_hr    14.638298\n",
       " Name: 5034, dtype: object)"
      ]
     },
     "execution_count": 1244,
     "metadata": {},
     "output_type": "execute_result"
    }
   ],
   "source": [
    "# Embedded features recommendations are very bad as compared to recommendations with original features.\n",
    "users.iloc[0], users.iloc[5033]"
   ]
  },
  {
   "cell_type": "markdown",
   "id": "fe02bbfa",
   "metadata": {},
   "source": [
    "##### Using embeddings, the function recommended users who had almost no similarity to the new user. Here it is better to use original features to get the similar user recommendations. "
   ]
  }
 ],
 "metadata": {
  "kernelspec": {
   "display_name": "Python 3 (ipykernel)",
   "language": "python",
   "name": "python3"
  },
  "language_info": {
   "codemirror_mode": {
    "name": "ipython",
    "version": 3
   },
   "file_extension": ".py",
   "mimetype": "text/x-python",
   "name": "python",
   "nbconvert_exporter": "python",
   "pygments_lexer": "ipython3",
   "version": "3.10.9"
  },
  "toc": {
   "base_numbering": 1,
   "nav_menu": {},
   "number_sections": true,
   "sideBar": true,
   "skip_h1_title": false,
   "title_cell": "Table of Contents",
   "title_sidebar": "Contents",
   "toc_cell": false,
   "toc_position": {
    "height": "calc(100% - 180px)",
    "left": "10px",
    "top": "150px",
    "width": "215.719px"
   },
   "toc_section_display": true,
   "toc_window_display": false
  },
  "varInspector": {
   "cols": {
    "lenName": 16,
    "lenType": 16,
    "lenVar": 40
   },
   "kernels_config": {
    "python": {
     "delete_cmd_postfix": "",
     "delete_cmd_prefix": "del ",
     "library": "var_list.py",
     "varRefreshCmd": "print(var_dic_list())"
    },
    "r": {
     "delete_cmd_postfix": ") ",
     "delete_cmd_prefix": "rm(",
     "library": "var_list.r",
     "varRefreshCmd": "cat(var_dic_list()) "
    }
   },
   "types_to_exclude": [
    "module",
    "function",
    "builtin_function_or_method",
    "instance",
    "_Feature"
   ],
   "window_display": false
  }
 },
 "nbformat": 4,
 "nbformat_minor": 5
}
